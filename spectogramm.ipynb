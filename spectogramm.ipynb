{
  "nbformat": 4,
  "nbformat_minor": 0,
  "metadata": {
    "colab": {
      "name": "spectogramm.ipynb",
      "provenance": [],
      "toc_visible": true
    },
    "kernelspec": {
      "name": "python3",
      "display_name": "Python 3"
    }
  },
  "cells": [
    {
      "cell_type": "markdown",
      "metadata": {
        "id": "pYooocpBvPxB",
        "colab_type": "text"
      },
      "source": [
        "**File for converting splited audio to spectogram of MGCC**"
      ]
    },
    {
      "cell_type": "code",
      "metadata": {
        "id": "MbnQpB21KyYR",
        "colab_type": "code",
        "colab": {}
      },
      "source": [
        "import os\n",
        "import tqdm as tqdm\n",
        "import pandas as pd\n",
        "import numpy as np\n",
        "from matplotlib import pyplot as plt\n",
        "from scipy.io import wavfile\n",
        "import librosa\n",
        "from librosa import display\n",
        "from scipy import signal\n",
        "from soundfile import read\n",
        "import progressbar"
      ],
      "execution_count": 0,
      "outputs": []
    },
    {
      "cell_type": "code",
      "metadata": {
        "id": "teTN0vt2tDBw",
        "colab_type": "code",
        "outputId": "dbec8142-3a5f-4502-a0d0-bf940075ac03",
        "colab": {
          "base_uri": "https://localhost:8080/",
          "height": 190
        }
      },
      "source": [
        "!pip install soundfile\n",
        "!pip install progressbar2"
      ],
      "execution_count": 0,
      "outputs": [
        {
          "output_type": "stream",
          "text": [
            "Collecting soundfile\n",
            "  Downloading https://files.pythonhosted.org/packages/eb/f2/3cbbbf3b96fb9fa91582c438b574cff3f45b29c772f94c400e2c99ef5db9/SoundFile-0.10.3.post1-py2.py3-none-any.whl\n",
            "Requirement already satisfied: cffi>=1.0 in /usr/local/lib/python3.6/dist-packages (from soundfile) (1.14.0)\n",
            "Requirement already satisfied: pycparser in /usr/local/lib/python3.6/dist-packages (from cffi>=1.0->soundfile) (2.20)\n",
            "Installing collected packages: soundfile\n",
            "Successfully installed soundfile-0.10.3.post1\n",
            "Requirement already satisfied: progressbar2 in /usr/local/lib/python3.6/dist-packages (3.38.0)\n",
            "Requirement already satisfied: python-utils>=2.3.0 in /usr/local/lib/python3.6/dist-packages (from progressbar2) (2.4.0)\n",
            "Requirement already satisfied: six in /usr/local/lib/python3.6/dist-packages (from progressbar2) (1.12.0)\n"
          ],
          "name": "stdout"
        }
      ]
    },
    {
      "cell_type": "code",
      "metadata": {
        "id": "ylJghLMbMxwM",
        "colab_type": "code",
        "colab": {}
      },
      "source": [
        ""
      ],
      "execution_count": 0,
      "outputs": []
    },
    {
      "cell_type": "code",
      "metadata": {
        "id": "uUByOniQHoX8",
        "colab_type": "code",
        "outputId": "601c9ae2-234b-4912-c17a-2fd49d9f1323",
        "colab": {
          "base_uri": "https://localhost:8080/",
          "height": 34
        }
      },
      "source": [
        "!pip install python_speech_features"
      ],
      "execution_count": 0,
      "outputs": [
        {
          "output_type": "stream",
          "text": [
            "Requirement already satisfied: python_speech_features in /usr/local/lib/python3.6/dist-packages (0.6)\n"
          ],
          "name": "stdout"
        }
      ]
    },
    {
      "cell_type": "code",
      "metadata": {
        "id": "HQ6oxm6rMTAr",
        "colab_type": "code",
        "colab": {}
      },
      "source": [
        "data_path = \"/content/drive/My Drive/Colab Notebooks/new project/new data/new idea/cutted data/\"\n",
        "out_put_dir = \"/content/drive/My Drive/Colab Notebooks/new project/new data/new idea/mfcc/\""
      ],
      "execution_count": 0,
      "outputs": []
    },
    {
      "cell_type": "code",
      "metadata": {
        "id": "uNDLKOUfj9eZ",
        "colab_type": "code",
        "colab": {}
      },
      "source": [
        "def calc_fft(signal, rate):\n",
        "  n = len(signal)\n",
        "  frec = np.fft.rfftfreq(n, d = 1/rate)\n",
        "  Y = abs(np.fft.rfft(signal)/n)\n",
        "  return Y\n"
      ],
      "execution_count": 0,
      "outputs": []
    },
    {
      "cell_type": "code",
      "metadata": {
        "id": "4p3nzO78XLNC",
        "colab_type": "code",
        "colab": {}
      },
      "source": [
        "def show_dpectogram(data_pathh):\n",
        "  with open(data_pathh, 'rb') as filee:\n",
        "    samples, sample_rate  = read(filee)\n",
        "  fig = plt.figure(figsize = (300/96,200/96))\n",
        "  ax = fig.add_subplot(1, 1, 1)\n",
        "  try: \n",
        "    samples = np.mean(samples, axis = 1)\n",
        "  except IndexError:\n",
        "    samples = samples\n",
        "  S = librosa.feature.melspectrogram(y = samples, sr = sample_rate)\n",
        "  display.specshow(librosa.power_to_db(S))\n",
        "  plt.show()"
      ],
      "execution_count": 0,
      "outputs": []
    },
    {
      "cell_type": "code",
      "metadata": {
        "id": "AdQoVnmd9IGs",
        "colab_type": "code",
        "colab": {}
      },
      "source": [
        "def show_mfcc(data_pathh):\n",
        "  with open(data_pathh, 'rb') as filee:\n",
        "    samples, sample_rate  = read(filee)\n",
        "  fig = plt.figure(figsize = (300/96,200/96))\n",
        "  ax = fig.add_subplot(1, 1, 1)\n",
        "  try: \n",
        "    samples = np.mean(samples, axis = 1)\n",
        "  except IndexError:\n",
        "    samples = samples\n",
        "  mfccs = librosa.feature.mfcc(y=samples, sr=sample_rate, n_mfcc=40)\n",
        "  librosa.display.specshow(mfccs, x_axis='time')\n",
        "  plt.show()"
      ],
      "execution_count": 0,
      "outputs": []
    },
    {
      "cell_type": "code",
      "metadata": {
        "id": "wnkN-sImFWWj",
        "colab_type": "code",
        "colab": {}
      },
      "source": [
        "def save_spectogramm(data_pathh,save_dir,name):\n",
        "  with open(data_pathh, 'rb') as filee:\n",
        "    samples, sample_rate  = read(filee)\n",
        "  fig = plt.figure(figsize = (250/96,250/96))\n",
        "  ax = fig.add_subplot(1, 1, 1)\n",
        "  try: \n",
        "    samples = np.mean(samples, axis = 1)\n",
        "  except IndexError:\n",
        "    samples = samples\n",
        "  S = librosa.feature.melspectrogram(y = samples, sr = sample_rate)\n",
        "  display.specshow(librosa.power_to_db(S))\n",
        "  plt.savefig(save_dir + name+'.png')\n",
        "  plt.close('all')"
      ],
      "execution_count": 0,
      "outputs": []
    },
    {
      "cell_type": "code",
      "metadata": {
        "id": "lzny6KbGG6TO",
        "colab_type": "code",
        "colab": {}
      },
      "source": [
        "def save_mfcc(data_pathh,save_dir,name):\n",
        "  with open(data_pathh, 'rb') as filee:\n",
        "    samples, sample_rate  = read(filee)\n",
        "  fig = plt.figure(figsize = (250/96,250/96))\n",
        "  ax = fig.add_subplot(1, 1, 1)\n",
        "  try: \n",
        "    samples = np.mean(samples, axis = 1)\n",
        "  except IndexError:\n",
        "    samples = samples\n",
        "  mfccs = librosa.feature.mfcc(y=samples, sr=sample_rate, n_mfcc=40)\n",
        "  librosa.display.specshow(mfccs, x_axis='time')\n",
        "  plt.savefig(save_dir + name+'.png')\n",
        "  plt.close('all')"
      ],
      "execution_count": 0,
      "outputs": []
    },
    {
      "cell_type": "code",
      "metadata": {
        "id": "zaMRCQ7XiB7z",
        "colab_type": "code",
        "colab": {}
      },
      "source": [
        "# i = 0\n",
        "# with os.scandir(data_path) as entries:\n",
        "#     for entry in entries:\n",
        "#        wav_file = data_path + entry.name\n",
        "#        save_spectogramm(wav_file, save_dir = out_put_dir,name = file_name + str(i))\n",
        "#        i+= 1\n"
      ],
      "execution_count": 0,
      "outputs": []
    },
    {
      "cell_type": "code",
      "metadata": {
        "id": "T4SIBfueQpV-",
        "colab_type": "code",
        "outputId": "4e44c89b-f857-4dda-cc7c-ff2300f09faa",
        "colab": {
          "base_uri": "https://localhost:8080/",
          "height": 34
        }
      },
      "source": [
        "origin_data = np.array(os.listdir(data_path))\n",
        "num = origin_data.shape[0]//5\n",
        "\n",
        "data_part1, data_part2, data_part3, data_part4, data_part5 = np.split(origin_data, [num, 2*num, 3*num, 4*num])\n",
        "data_part1.shape[0]"
      ],
      "execution_count": 0,
      "outputs": [
        {
          "output_type": "execute_result",
          "data": {
            "text/plain": [
              "8038"
            ]
          },
          "metadata": {
            "tags": []
          },
          "execution_count": 12
        }
      ]
    },
    {
      "cell_type": "code",
      "metadata": {
        "id": "aC1O3rn93O6H",
        "colab_type": "code",
        "colab": {}
      },
      "source": [
        "def create_txt(arr, path, name):\n",
        "  kk = 0\n",
        "  with open(path + name, \"w\") as file:\n",
        "    with progressbar.ProgressBar(max_value=arr.shape[0]) as bar:\n",
        "      for i in arr:\n",
        "        file.write(i)\n",
        "        file.write(\"\\n\")\n",
        "        kk += 1\n",
        "        bar.update(kk)\n",
        "  return None\n",
        "    \n",
        "\n",
        "    "
      ],
      "execution_count": 0,
      "outputs": []
    },
    {
      "cell_type": "code",
      "metadata": {
        "id": "0i_-2QOk4qJ9",
        "colab_type": "code",
        "outputId": "03ab0e25-c230-4ab2-f325-b590d1249bc6",
        "colab": {
          "base_uri": "https://localhost:8080/",
          "height": 34
        }
      },
      "source": [
        "create_txt(data_part1, \"/content/drive/My Drive/Colab Notebooks/new project/new data/new idea/\", \"data_part1.txt\")"
      ],
      "execution_count": 0,
      "outputs": [
        {
          "output_type": "stream",
          "text": [
            "100% (8038 of 8038) |####################| Elapsed Time: 0:00:00 Time:  0:00:00\n"
          ],
          "name": "stderr"
        }
      ]
    },
    {
      "cell_type": "code",
      "metadata": {
        "id": "FZ48SWSG45Ei",
        "colab_type": "code",
        "outputId": "cfcb73ec-ea10-4128-8425-26be5b6e4c7d",
        "colab": {
          "base_uri": "https://localhost:8080/",
          "height": 85
        }
      },
      "source": [
        "create_txt(data_part2, \"/content/drive/My Drive/Colab Notebooks/new project/new data/new idea/\", \"data_part2.txt\")\n",
        "create_txt(data_part3, \"/content/drive/My Drive/Colab Notebooks/new project/new data/new idea/\", \"data_part3.txt\")\n",
        "create_txt(data_part4, \"/content/drive/My Drive/Colab Notebooks/new project/new data/new idea/\", \"data_part4.txt\")\n",
        "create_txt(data_part5, \"/content/drive/My Drive/Colab Notebooks/new project/new data/new idea/\", \"data_part5.txt\")"
      ],
      "execution_count": 0,
      "outputs": [
        {
          "output_type": "stream",
          "text": [
            "100% (8038 of 8038) |####################| Elapsed Time: 0:00:00 Time:  0:00:00\n",
            "100% (8038 of 8038) |####################| Elapsed Time: 0:00:00 Time:  0:00:00\n",
            "100% (8038 of 8038) |####################| Elapsed Time: 0:00:00 Time:  0:00:00\n",
            "100% (8042 of 8042) |####################| Elapsed Time: 0:00:00 Time:  0:00:00\n"
          ],
          "name": "stderr"
        }
      ]
    },
    {
      "cell_type": "code",
      "metadata": {
        "id": "ac1t2RQepGEr",
        "colab_type": "code",
        "outputId": "9c455fef-96ce-452e-db3e-f163ce804ea6",
        "colab": {
          "base_uri": "https://localhost:8080/",
          "height": 175
        }
      },
      "source": [
        "show_mfcc(\"/content/drive/My Drive/Colab Notebooks/new project/new data/new idea/cutted data/cutted_data_2_12.wav\")"
      ],
      "execution_count": 0,
      "outputs": [
        {
          "output_type": "display_data",
          "data": {
            "image/png": "[encoded data removed]",
            "text/plain": [
              "<Figure size 225x150 with 1 Axes>"
            ]
          },
          "metadata": {
            "tags": [],
            "needs_background": "light"
          }
        }
      ]
    },
    {
      "cell_type": "code",
      "metadata": {
        "id": "afNwn2TCHFPP",
        "colab_type": "code",
        "colab": {}
      },
      "source": [
        "save_mfcc(\"/content/drive/My Drive/Colab Notebooks/new project/new data/new idea/cutted data/cutted_data_2_12.wav\", \"/content/drive/My Drive/Colab Notebooks/new project/new data/new idea/\",\"sam\")"
      ],
      "execution_count": 0,
      "outputs": []
    },
    {
      "cell_type": "code",
      "metadata": {
        "id": "hDYdHW6_GyDV",
        "colab_type": "code",
        "colab": {}
      },
      "source": [
        ""
      ],
      "execution_count": 0,
      "outputs": []
    },
    {
      "cell_type": "code",
      "metadata": {
        "id": "zUFYg00aSaRs",
        "colab_type": "code",
        "colab": {}
      },
      "source": [
        "data = pd.read_csv(\"/content/drive/My Drive/Colab Notebooks/new project/new data/my data.csv\")"
      ],
      "execution_count": 0,
      "outputs": []
    },
    {
      "cell_type": "code",
      "metadata": {
        "id": "LwkMIaXyYoVd",
        "colab_type": "code",
        "outputId": "33b47262-22db-4c08-f93f-13b005e6bc10",
        "colab": {
          "base_uri": "https://localhost:8080/",
          "height": 204
        }
      },
      "source": [
        "data = data[data.columns[1:]]\n",
        "data.head()"
      ],
      "execution_count": 0,
      "outputs": [
        {
          "output_type": "execute_result",
          "data": {
            "text/html": [
              "<div>\n",
              "<style scoped>\n",
              "    .dataframe tbody tr th:only-of-type {\n",
              "        vertical-align: middle;\n",
              "    }\n",
              "\n",
              "    .dataframe tbody tr th {\n",
              "        vertical-align: top;\n",
              "    }\n",
              "\n",
              "    .dataframe thead th {\n",
              "        text-align: right;\n",
              "    }\n",
              "</style>\n",
              "<table border=\"1\" class=\"dataframe\">\n",
              "  <thead>\n",
              "    <tr style=\"text-align: right;\">\n",
              "      <th></th>\n",
              "      <th>filename</th>\n",
              "      <th>native_language</th>\n",
              "      <th>lable_count</th>\n",
              "    </tr>\n",
              "  </thead>\n",
              "  <tbody>\n",
              "    <tr>\n",
              "      <th>0</th>\n",
              "      <td>dutch21</td>\n",
              "      <td>1</td>\n",
              "      <td>17</td>\n",
              "    </tr>\n",
              "    <tr>\n",
              "      <th>1</th>\n",
              "      <td>afrikaans1</td>\n",
              "      <td>1</td>\n",
              "      <td>9</td>\n",
              "    </tr>\n",
              "    <tr>\n",
              "      <th>2</th>\n",
              "      <td>arabic67</td>\n",
              "      <td>1</td>\n",
              "      <td>29</td>\n",
              "    </tr>\n",
              "    <tr>\n",
              "      <th>3</th>\n",
              "      <td>english392</td>\n",
              "      <td>0</td>\n",
              "      <td>15</td>\n",
              "    </tr>\n",
              "    <tr>\n",
              "      <th>4</th>\n",
              "      <td>farsi6</td>\n",
              "      <td>1</td>\n",
              "      <td>28</td>\n",
              "    </tr>\n",
              "  </tbody>\n",
              "</table>\n",
              "</div>"
            ],
            "text/plain": [
              "     filename  native_language  lable_count\n",
              "0     dutch21                1           17\n",
              "1  afrikaans1                1            9\n",
              "2    arabic67                1           29\n",
              "3  english392                0           15\n",
              "4      farsi6                1           28"
            ]
          },
          "metadata": {
            "tags": []
          },
          "execution_count": 24
        }
      ]
    },
    {
      "cell_type": "code",
      "metadata": {
        "id": "QitLO5Rs3CeJ",
        "colab_type": "code",
        "colab": {}
      },
      "source": [
        "import pandas as pd\n",
        "data.to_csv(\"/content/drive/My Drive/Colab Notebooks/new project/new data/my data.csv\", index=False)"
      ],
      "execution_count": 0,
      "outputs": []
    },
    {
      "cell_type": "code",
      "metadata": {
        "id": "atTysWByeq0D",
        "colab_type": "code",
        "outputId": "43403c8c-a342-469c-805e-970aae954348",
        "colab": {
          "base_uri": "https://localhost:8080/",
          "height": 85
        }
      },
      "source": [
        "data = pd.read_csv(\"/content/drive/My Drive/Colab Notebooks/new project/new data/my data.csv\")\n",
        "data.iloc[828]"
      ],
      "execution_count": 0,
      "outputs": [
        {
          "output_type": "execute_result",
          "data": {
            "text/plain": [
              "filename           english268\n",
              "native_language             0\n",
              "lable_count                25\n",
              "Name: 828, dtype: object"
            ]
          },
          "metadata": {
            "tags": []
          },
          "execution_count": 9
        }
      ]
    },
    {
      "cell_type": "code",
      "metadata": {
        "id": "OEHz52LVuA5_",
        "colab_type": "code",
        "outputId": "f7f01dc8-4bd9-481b-daf5-3b330f6cc998",
        "colab": {
          "base_uri": "https://localhost:8080/",
          "height": 34
        }
      },
      "source": [
        "k = 0\n",
        "with progressbar.ProgressBar(max_value=8038) as bar:\n",
        "  with open(\"/content/drive/My Drive/Colab Notebooks/new project/new data/new idea/data_part1.txt\", \"r\") as file:\n",
        "    for i in file :\n",
        "      wav_file = data_path + i[:-1]\n",
        "      save_mfcc(wav_file, save_dir = out_put_dir,name = i[:-5])\n",
        "      bar.update(k)\n",
        "      k += 1\n",
        "  \n",
        "    \n"
      ],
      "execution_count": 0,
      "outputs": [
        {
          "output_type": "stream",
          "text": [
            "100% (8038 of 8038) |####################| Elapsed Time: 1:11:34 Time:  1:11:34\n"
          ],
          "name": "stderr"
        }
      ]
    },
    {
      "cell_type": "code",
      "metadata": {
        "id": "Rn-ABWJwpphx",
        "colab_type": "code",
        "outputId": "6bcbd571-1f32-4adb-9aa9-f680440c6acc",
        "colab": {
          "base_uri": "https://localhost:8080/",
          "height": 34
        }
      },
      "source": [
        "k = 0\n",
        "with progressbar.ProgressBar(max_value=8038) as bar:\n",
        "  with open(\"/content/drive/My Drive/Colab Notebooks/new project/new data/new idea/data_part2.txt\", \"r\") as file:\n",
        "    for i in file :\n",
        "      wav_file = data_path + i[:-1]\n",
        "      save_mfcc(wav_file, save_dir = out_put_dir,name = i[:-5])\n",
        "      bar.update(k)\n",
        "      k += 1"
      ],
      "execution_count": 0,
      "outputs": [
        {
          "output_type": "stream",
          "text": [
            "100% (8038 of 8038) |####################| Elapsed Time: 1:11:10 Time:  1:11:10\n"
          ],
          "name": "stderr"
        }
      ]
    },
    {
      "cell_type": "code",
      "metadata": {
        "id": "DhWdleKXpxDP",
        "colab_type": "code",
        "outputId": "c087fbcb-09e0-4b2b-d22d-c8cd4410d60a",
        "colab": {
          "base_uri": "https://localhost:8080/",
          "height": 34
        }
      },
      "source": [
        "k = 0\n",
        "with progressbar.ProgressBar(max_value=8038) as bar:\n",
        "  with open(\"/content/drive/My Drive/Colab Notebooks/new project/new data/new idea/data_part3.txt\", \"r\") as file:\n",
        "    for i in file :\n",
        "      wav_file = data_path + i[:-1]\n",
        "      save_mfcc(wav_file, save_dir = out_put_dir,name = i[:-5])\n",
        "      bar.update(k)\n",
        "      k += 1"
      ],
      "execution_count": 0,
      "outputs": [
        {
          "output_type": "stream",
          "text": [
            "100% (8038 of 8038) |####################| Elapsed Time: 1:13:16 Time:  1:13:16\n"
          ],
          "name": "stderr"
        }
      ]
    },
    {
      "cell_type": "code",
      "metadata": {
        "id": "96clMN5KqTfO",
        "colab_type": "code",
        "outputId": "56bbeab4-9946-4475-dca8-429336a402ff",
        "colab": {
          "base_uri": "https://localhost:8080/",
          "height": 34
        }
      },
      "source": [
        "k = 0\n",
        "with progressbar.ProgressBar(max_value=8038) as bar:\n",
        "  with open(\"/content/drive/My Drive/Colab Notebooks/new project/new data/new idea/data_part4.txt\", \"r\") as file:\n",
        "    for i in file :\n",
        "      wav_file = data_path + i[:-1]\n",
        "      save_mfcc(wav_file, save_dir = out_put_dir,name = i[:-5])\n",
        "      bar.update(k)\n",
        "      k += 1"
      ],
      "execution_count": 0,
      "outputs": [
        {
          "output_type": "stream",
          "text": [
            "100% (8038 of 8038) |####################| Elapsed Time: 1:14:33 Time:  1:14:33\n"
          ],
          "name": "stderr"
        }
      ]
    },
    {
      "cell_type": "code",
      "metadata": {
        "id": "rvFsC1L68LlN",
        "colab_type": "code",
        "outputId": "1d538591-9c96-4a46-819f-4e796b10b339",
        "colab": {
          "base_uri": "https://localhost:8080/",
          "height": 34
        }
      },
      "source": [
        "k = 0\n",
        "with progressbar.ProgressBar(max_value=8042) as bar:\n",
        "  with open(\"/content/drive/My Drive/Colab Notebooks/new project/new data/new idea/data_part5.txt\", \"r\") as file:\n",
        "    for i in file :\n",
        "      wav_file = data_path + i[:-1]\n",
        "      save_mfcc(wav_file, save_dir = out_put_dir,name = i[:-5])\n",
        "      bar.update(k)\n",
        "      k += 1"
      ],
      "execution_count": 0,
      "outputs": [
        {
          "output_type": "stream",
          "text": [
            "100% (8042 of 8042) |####################| Elapsed Time: 1:11:32 Time:  1:11:32\n"
          ],
          "name": "stderr"
        }
      ]
    },
    {
      "cell_type": "code",
      "metadata": {
        "id": "H7BgjJAFWcyb",
        "colab_type": "code",
        "outputId": "4fa72044-fa84-436a-a3e9-79c04d82ca81",
        "colab": {
          "base_uri": "https://localhost:8080/",
          "height": 34
        }
      },
      "source": [
        "k = 0\n",
        "with progressbar.ProgressBar(max_value=data_part3.shape[0]) as bar:\n",
        "  for i in data_part3:\n",
        "    wav_file = data_path + i\n",
        "    save_spectogramm(wav_file, save_dir = out_put_dir,name = file_name + str(j))\n",
        "    j += 1\n",
        "    bar.update(k)\n",
        "    k += 1"
      ],
      "execution_count": 0,
      "outputs": [
        {
          "output_type": "stream",
          "text": [
            "100% (3196 of 3196) |####################| Elapsed Time: 0:33:51 Time:  0:33:51\n"
          ],
          "name": "stderr"
        }
      ]
    },
    {
      "cell_type": "code",
      "metadata": {
        "id": "RfxHnGKv-1D5",
        "colab_type": "code",
        "outputId": "4ed1d20f-ffbc-4c0d-eac3-1aafb05ed83e",
        "colab": {
          "base_uri": "https://localhost:8080/",
          "height": 34
        }
      },
      "source": [
        "show_dpectogram(data_pathh)"
      ],
      "execution_count": 0,
      "outputs": [
        {
          "output_type": "execute_result",
          "data": {
            "text/plain": [
              "12784"
            ]
          },
          "metadata": {
            "tags": []
          },
          "execution_count": 16
        }
      ]
    },
    {
      "cell_type": "code",
      "metadata": {
        "id": "8VNzfAtugkej",
        "colab_type": "code",
        "outputId": "5d0dc95a-d106-44f9-93fe-cd6f04a2daa7",
        "colab": {
          "base_uri": "https://localhost:8080/",
          "height": 34
        }
      },
      "source": [
        "with os.scantdir(\"/content/drive/My Drive/Colab Notebooks/new project/new data/recordings/spectogram data/\") as file:\n",
        "  file.name"
      ],
      "execution_count": 0,
      "outputs": [
        {
          "output_type": "execute_result",
          "data": {
            "text/plain": [
              "18975"
            ]
          },
          "metadata": {
            "tags": []
          },
          "execution_count": 12
        }
      ]
    }
  ]
}
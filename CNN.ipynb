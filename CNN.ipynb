{
  "nbformat": 4,
  "nbformat_minor": 0,
  "metadata": {
    "colab": {
      "name": "CNN.ipynb",
      "provenance": [],
      "collapsed_sections": []
    },
    "kernelspec": {
      "name": "python3",
      "display_name": "Python 3"
    },
    "accelerator": "GPU"
  },
  "cells": [
    {
      "cell_type": "markdown",
      "metadata": {
        "id": "EZTuAaWdYZCH",
        "colab_type": "text"
      },
      "source": [
        "**Creating CNN model for accent recognitions**"
      ]
    },
    {
      "cell_type": "code",
      "metadata": {
        "id": "ueFt052MpLNJ",
        "colab_type": "code",
        "colab": {}
      },
      "source": [
        "import pandas as pd\n",
        "from pandas import DataFrame as df\n",
        "import numpy as np\n",
        "from numpy import asarray\n",
        "from PIL import Image\n",
        "import tensorflow as tf\n",
        "from tensorflow.keras import Sequential\n",
        "from tensorflow.keras.layers import Conv2D, MaxPooling2D, Dropout, Flatten, Dense, AveragePooling2D, GlobalAveragePooling2D, BatchNormalization\n",
        "from sklearn.model_selection import train_test_split\n",
        "from matplotlib.image import imread\n",
        "import os\n",
        "from tensorflow.data import Dataset as ds\n",
        "from tensorflow.keras.utils import Sequence\n",
        "import math\n",
        "from tensorflow.keras.callbacks import ModelCheckpoint"
      ],
      "execution_count": 0,
      "outputs": []
    },
    {
      "cell_type": "markdown",
      "metadata": {
        "id": "JO3IyBY7d7zr",
        "colab_type": "text"
      },
      "source": [
        "creating Sequence for data generations\n"
      ]
    },
    {
      "cell_type": "code",
      "metadata": {
        "id": "hTADdXhqpl93",
        "colab_type": "code",
        "colab": {}
      },
      "source": [
        "class Image_bath_gen(Sequence):\n",
        "  def __init__(self, X, Y, batch_size):\n",
        "    self.data = X\n",
        "    self.lables = Y\n",
        "    self.batch_size =  batch_size\n",
        "  \n",
        "  def __len__(self):\n",
        "    return math.ceil(self.data.shape[0]/self.batch_size)\n",
        "\n",
        "  def __getitem__(self, idx):\n",
        "    batch_x = self.data[idx * self.batch_size:(idx + 1) *\n",
        "    self.batch_size]\n",
        "    batch_y = self.lables[idx * self.batch_size:(idx + 1) *\n",
        "    self.batch_size]\n",
        "\n",
        "    return np.array([imread(filename)/255 for filename in batch_x]), np.array(batch_y)"
      ],
      "execution_count": 0,
      "outputs": []
    },
    {
      "cell_type": "code",
      "metadata": {
        "id": "Ve2Z_i_bpnwn",
        "colab_type": "code",
        "colab": {}
      },
      "source": [
        "#data_dir = \"/content/drive/My Drive/Colab Notebooks/new project/new data/new idea/spectogram data/\"\n",
        "#data_shape = imread(data_dir + \"cutted_data_0_0.png\").shape"
      ],
      "execution_count": 0,
      "outputs": []
    },
    {
      "cell_type": "markdown",
      "metadata": {
        "id": "7zhpadJueP7A",
        "colab_type": "text"
      },
      "source": [
        "Loading data"
      ]
    },
    {
      "cell_type": "code",
      "metadata": {
        "id": "A8j7EMlLpv9X",
        "colab_type": "code",
        "colab": {}
      },
      "source": [
        "true_data = pd.read_csv(\"/content/drive/My Drive/Colab Notebooks/new project/new data/new idea/true data 2.csv\")"
      ],
      "execution_count": 0,
      "outputs": []
    },
    {
      "cell_type": "code",
      "metadata": {
        "id": "C4ymUCfisUm9",
        "colab_type": "code",
        "outputId": "9131f00d-41ba-438f-c66a-6e2a371f7c2d",
        "colab": {
          "base_uri": "https://localhost:8080/",
          "height": 34
        }
      },
      "source": [
        "train_data = true_data.iloc[:-int(true_data.shape[0]*0.1)]\n",
        "train_data.shape"
      ],
      "execution_count": 13,
      "outputs": [
        {
          "output_type": "execute_result",
          "data": {
            "text/plain": [
              "(36175, 2)"
            ]
          },
          "metadata": {
            "tags": []
          },
          "execution_count": 13
        }
      ]
    },
    {
      "cell_type": "code",
      "metadata": {
        "id": "MrrpRMxsWRSd",
        "colab_type": "code",
        "outputId": "2aae186b-06f3-41fd-bb14-5828c7ca74bd",
        "colab": {
          "base_uri": "https://localhost:8080/",
          "height": 204
        }
      },
      "source": [
        "test_data = true_data.iloc[-int(true_data.shape[0]*0.1):]\n",
        "test_data.head()"
      ],
      "execution_count": 14,
      "outputs": [
        {
          "output_type": "execute_result",
          "data": {
            "text/html": [
              "<div>\n",
              "<style scoped>\n",
              "    .dataframe tbody tr th:only-of-type {\n",
              "        vertical-align: middle;\n",
              "    }\n",
              "\n",
              "    .dataframe tbody tr th {\n",
              "        vertical-align: top;\n",
              "    }\n",
              "\n",
              "    .dataframe thead th {\n",
              "        text-align: right;\n",
              "    }\n",
              "</style>\n",
              "<table border=\"1\" class=\"dataframe\">\n",
              "  <thead>\n",
              "    <tr style=\"text-align: right;\">\n",
              "      <th></th>\n",
              "      <th>filename</th>\n",
              "      <th>lable</th>\n",
              "    </tr>\n",
              "  </thead>\n",
              "  <tbody>\n",
              "    <tr>\n",
              "      <th>36175</th>\n",
              "      <td>/content/drive/My Drive/Colab Notebooks/new pr...</td>\n",
              "      <td>0</td>\n",
              "    </tr>\n",
              "    <tr>\n",
              "      <th>36176</th>\n",
              "      <td>/content/drive/My Drive/Colab Notebooks/new pr...</td>\n",
              "      <td>0</td>\n",
              "    </tr>\n",
              "    <tr>\n",
              "      <th>36177</th>\n",
              "      <td>/content/drive/My Drive/Colab Notebooks/new pr...</td>\n",
              "      <td>0</td>\n",
              "    </tr>\n",
              "    <tr>\n",
              "      <th>36178</th>\n",
              "      <td>/content/drive/My Drive/Colab Notebooks/new pr...</td>\n",
              "      <td>0</td>\n",
              "    </tr>\n",
              "    <tr>\n",
              "      <th>36179</th>\n",
              "      <td>/content/drive/My Drive/Colab Notebooks/new pr...</td>\n",
              "      <td>0</td>\n",
              "    </tr>\n",
              "  </tbody>\n",
              "</table>\n",
              "</div>"
            ],
            "text/plain": [
              "                                                filename  lable\n",
              "36175  /content/drive/My Drive/Colab Notebooks/new pr...      0\n",
              "36176  /content/drive/My Drive/Colab Notebooks/new pr...      0\n",
              "36177  /content/drive/My Drive/Colab Notebooks/new pr...      0\n",
              "36178  /content/drive/My Drive/Colab Notebooks/new pr...      0\n",
              "36179  /content/drive/My Drive/Colab Notebooks/new pr...      0"
            ]
          },
          "metadata": {
            "tags": []
          },
          "execution_count": 14
        }
      ]
    },
    {
      "cell_type": "code",
      "metadata": {
        "id": "WjVX_8jqWSCc",
        "colab_type": "code",
        "colab": {}
      },
      "source": [
        "test_data_gen = Image_bath_gen(test_data[\"filename\"], test_data[\"lable\"], 128)"
      ],
      "execution_count": 0,
      "outputs": []
    },
    {
      "cell_type": "code",
      "metadata": {
        "id": "oqC3nx8dsTYW",
        "colab_type": "code",
        "colab": {}
      },
      "source": [
        "meta_data_gen = Image_bath_gen(train_data[\"filename\"], train_data[\"lable\"], 128)"
      ],
      "execution_count": 0,
      "outputs": []
    },
    {
      "cell_type": "code",
      "metadata": {
        "id": "y4DGrtdysRdU",
        "colab_type": "code",
        "outputId": "e14beadf-b2f5-4855-ea17-d37e698975e5",
        "colab": {
          "base_uri": "https://localhost:8080/",
          "height": 34
        }
      },
      "source": [
        "data_shape = imread(train_data.iloc[0][0]).shape\n",
        "print(data_shape)"
      ],
      "execution_count": 17,
      "outputs": [
        {
          "output_type": "stream",
          "text": [
            "(187, 187, 4)\n"
          ],
          "name": "stdout"
        }
      ]
    },
    {
      "cell_type": "markdown",
      "metadata": {
        "id": "nOkjz5yleV69",
        "colab_type": "text"
      },
      "source": [
        "Creating CNN model"
      ]
    },
    {
      "cell_type": "code",
      "metadata": {
        "id": "r7sD7NadsMyo",
        "colab_type": "code",
        "colab": {}
      },
      "source": [
        "model = Sequential()\n",
        "\n",
        "model.add(Conv2D(128, (3, 3), activation='relu', input_shape = data_shape, padding=\"same\"))\n",
        "model.add(MaxPooling2D((2, 2), padding='same'))\n",
        "model.add(BatchNormalization())\n",
        "\n",
        "\n",
        "model.add(Conv2D(64, (3, 3), activation='relu', padding=\"same\"))\n",
        "model.add(MaxPooling2D((2, 2), padding='same'))\n",
        "model.add(BatchNormalization())\n",
        "\n",
        "\n",
        "model.add(Conv2D(34, (2, 2), activation='relu',padding=\"same\" ))\n",
        "model.add(MaxPooling2D((2, 2), padding='same'))\n",
        "model.add(BatchNormalization())\n",
        "\n",
        "\n",
        "model.add(Conv2D(16, (2, 2), activation='relu',padding=\"same\"))\n",
        "model.add(MaxPooling2D((2, 2), padding='same'))\n",
        "model.add(BatchNormalization())\n",
        "\n",
        "model.add(Dropout(0.4))\n",
        "\n",
        "model.add(Flatten())\n",
        "\n",
        "model.add(Dense(70, \"relu\"))\n",
        "model.add(Dense(70, \"relu\"))\n",
        "model.add(Dense(50, \"relu\"))\n",
        "\n",
        "\n",
        "model.add(Dropout(0.2))\n",
        "\n",
        "model.add(Dense(1, activation='sigmoid'))"
      ],
      "execution_count": 0,
      "outputs": []
    },
    {
      "cell_type": "markdown",
      "metadata": {
        "id": "cvTisbKkYXJs",
        "colab_type": "text"
      },
      "source": [
        ""
      ]
    },
    {
      "cell_type": "code",
      "metadata": {
        "id": "VlAQcGbfaFHI",
        "colab_type": "code",
        "colab": {}
      },
      "source": [
        "model.compile(\"adam\", 'binary_crossentropy', metrics=['accuracy'])"
      ],
      "execution_count": 0,
      "outputs": []
    },
    {
      "cell_type": "code",
      "metadata": {
        "id": "v5mBIPgOd0No",
        "colab_type": "code",
        "colab": {
          "base_uri": "https://localhost:8080/",
          "height": 799
        },
        "outputId": "49770c06-d129-4f72-de77-4f2e340735ba"
      },
      "source": [
        "model.summary()"
      ],
      "execution_count": 20,
      "outputs": [
        {
          "output_type": "stream",
          "text": [
            "Model: \"sequential\"\n",
            "_________________________________________________________________\n",
            "Layer (type)                 Output Shape              Param #   \n",
            "=================================================================\n",
            "conv2d (Conv2D)              (None, 187, 187, 128)     4736      \n",
            "_________________________________________________________________\n",
            "max_pooling2d (MaxPooling2D) (None, 94, 94, 128)       0         \n",
            "_________________________________________________________________\n",
            "batch_normalization (BatchNo (None, 94, 94, 128)       512       \n",
            "_________________________________________________________________\n",
            "conv2d_1 (Conv2D)            (None, 94, 94, 64)        73792     \n",
            "_________________________________________________________________\n",
            "max_pooling2d_1 (MaxPooling2 (None, 47, 47, 64)        0         \n",
            "_________________________________________________________________\n",
            "batch_normalization_1 (Batch (None, 47, 47, 64)        256       \n",
            "_________________________________________________________________\n",
            "conv2d_2 (Conv2D)            (None, 47, 47, 34)        8738      \n",
            "_________________________________________________________________\n",
            "max_pooling2d_2 (MaxPooling2 (None, 24, 24, 34)        0         \n",
            "_________________________________________________________________\n",
            "batch_normalization_2 (Batch (None, 24, 24, 34)        136       \n",
            "_________________________________________________________________\n",
            "conv2d_3 (Conv2D)            (None, 24, 24, 16)        2192      \n",
            "_________________________________________________________________\n",
            "max_pooling2d_3 (MaxPooling2 (None, 12, 12, 16)        0         \n",
            "_________________________________________________________________\n",
            "batch_normalization_3 (Batch (None, 12, 12, 16)        64        \n",
            "_________________________________________________________________\n",
            "dropout (Dropout)            (None, 12, 12, 16)        0         \n",
            "_________________________________________________________________\n",
            "flatten (Flatten)            (None, 2304)              0         \n",
            "_________________________________________________________________\n",
            "dense (Dense)                (None, 70)                161350    \n",
            "_________________________________________________________________\n",
            "dense_1 (Dense)              (None, 70)                4970      \n",
            "_________________________________________________________________\n",
            "dense_2 (Dense)              (None, 50)                3550      \n",
            "_________________________________________________________________\n",
            "dropout_1 (Dropout)          (None, 50)                0         \n",
            "_________________________________________________________________\n",
            "dense_3 (Dense)              (None, 1)                 51        \n",
            "=================================================================\n",
            "Total params: 260,347\n",
            "Trainable params: 259,863\n",
            "Non-trainable params: 484\n",
            "_________________________________________________________________\n"
          ],
          "name": "stdout"
        }
      ]
    },
    {
      "cell_type": "markdown",
      "metadata": {
        "id": "l5yCJmmYebWz",
        "colab_type": "text"
      },
      "source": [
        "Loading saved model\n"
      ]
    },
    {
      "cell_type": "code",
      "metadata": {
        "id": "21oieXfzQW6w",
        "colab_type": "code",
        "colab": {}
      },
      "source": [
        "from tensorflow import keras\n",
        "model = keras.models.load_model(\"/content/drive/My Drive/Colab Notebooks/new project/afDiploma 2.h5\")"
      ],
      "execution_count": 0,
      "outputs": []
    },
    {
      "cell_type": "code",
      "metadata": {
        "id": "UK0aGd2_Z_im",
        "colab_type": "code",
        "colab": {}
      },
      "source": [
        "#model.fit(meta_data_gen, epochs= 20, callbacks=[ModelCheckpoint(\"/content/drive/My Drive/Colab Notebooks/new project/afDiploma 2.h5\")])"
      ],
      "execution_count": 0,
      "outputs": []
    },
    {
      "cell_type": "markdown",
      "metadata": {
        "id": "SWejed72iYKR",
        "colab_type": "text"
      },
      "source": [
        "This accuracy we geted by basing on splited data, Let's check accuracy of hole audio file"
      ]
    },
    {
      "cell_type": "code",
      "metadata": {
        "id": "5HSUJew1lvqS",
        "colab_type": "code",
        "outputId": "51006da6-306f-4f3f-8903-ea03f4bbf8bb",
        "colab": {
          "base_uri": "https://localhost:8080/",
          "height": 51
        }
      },
      "source": [
        "model.evaluate(test_data_gen)"
      ],
      "execution_count": 25,
      "outputs": [
        {
          "output_type": "stream",
          "text": [
            "32/32 [==============================] - 1478s 46s/step - loss: 0.7021 - accuracy: 0.6984\n"
          ],
          "name": "stdout"
        },
        {
          "output_type": "execute_result",
          "data": {
            "text/plain": [
              "[0.7021034955978394, 0.698432445526123]"
            ]
          },
          "metadata": {
            "tags": []
          },
          "execution_count": 25
        }
      ]
    },
    {
      "cell_type": "markdown",
      "metadata": {
        "id": "wz24epj2i5rt",
        "colab_type": "text"
      },
      "source": [
        "**Accuracy of hole audio file**"
      ]
    },
    {
      "cell_type": "markdown",
      "metadata": {
        "id": "Y56zIP3ijB43",
        "colab_type": "text"
      },
      "source": [
        "the main idea of calculating of accuracy of hole data is predicting class of each fragment and calculate mean value for hole file"
      ]
    },
    {
      "cell_type": "code",
      "metadata": {
        "id": "k4v97ecp-L_h",
        "colab_type": "code",
        "colab": {}
      },
      "source": [
        "cp = []\n",
        "non_cp = []\n",
        "for i in range(test_data.shape[0]):\n",
        "  if i % 2 == 0:\n",
        "    cp.append(test_data.iloc[i].values)\n",
        "  else:\n",
        "    non_cp.append(test_data.iloc[i].values)"
      ],
      "execution_count": 0,
      "outputs": []
    },
    {
      "cell_type": "code",
      "metadata": {
        "id": "nmn83eMT_kz7",
        "colab_type": "code",
        "colab": {}
      },
      "source": [
        "new_test_data = np.concatenate((cp, non_cp))"
      ],
      "execution_count": 0,
      "outputs": []
    },
    {
      "cell_type": "code",
      "metadata": {
        "id": "ifj5k5aGAlqn",
        "colab_type": "code",
        "outputId": "8a62df4e-91e1-4b28-969e-8387bd18ee9e",
        "colab": {
          "base_uri": "https://localhost:8080/",
          "height": 204
        }
      },
      "source": [
        "new_test_data = df(new_test_data)\n",
        "new_test_data.head()"
      ],
      "execution_count": 29,
      "outputs": [
        {
          "output_type": "execute_result",
          "data": {
            "text/html": [
              "<div>\n",
              "<style scoped>\n",
              "    .dataframe tbody tr th:only-of-type {\n",
              "        vertical-align: middle;\n",
              "    }\n",
              "\n",
              "    .dataframe tbody tr th {\n",
              "        vertical-align: top;\n",
              "    }\n",
              "\n",
              "    .dataframe thead th {\n",
              "        text-align: right;\n",
              "    }\n",
              "</style>\n",
              "<table border=\"1\" class=\"dataframe\">\n",
              "  <thead>\n",
              "    <tr style=\"text-align: right;\">\n",
              "      <th></th>\n",
              "      <th>0</th>\n",
              "      <th>1</th>\n",
              "    </tr>\n",
              "  </thead>\n",
              "  <tbody>\n",
              "    <tr>\n",
              "      <th>0</th>\n",
              "      <td>/content/drive/My Drive/Colab Notebooks/new pr...</td>\n",
              "      <td>0</td>\n",
              "    </tr>\n",
              "    <tr>\n",
              "      <th>1</th>\n",
              "      <td>/content/drive/My Drive/Colab Notebooks/new pr...</td>\n",
              "      <td>0</td>\n",
              "    </tr>\n",
              "    <tr>\n",
              "      <th>2</th>\n",
              "      <td>/content/drive/My Drive/Colab Notebooks/new pr...</td>\n",
              "      <td>0</td>\n",
              "    </tr>\n",
              "    <tr>\n",
              "      <th>3</th>\n",
              "      <td>/content/drive/My Drive/Colab Notebooks/new pr...</td>\n",
              "      <td>0</td>\n",
              "    </tr>\n",
              "    <tr>\n",
              "      <th>4</th>\n",
              "      <td>/content/drive/My Drive/Colab Notebooks/new pr...</td>\n",
              "      <td>1</td>\n",
              "    </tr>\n",
              "  </tbody>\n",
              "</table>\n",
              "</div>"
            ],
            "text/plain": [
              "                                                   0  1\n",
              "0  /content/drive/My Drive/Colab Notebooks/new pr...  0\n",
              "1  /content/drive/My Drive/Colab Notebooks/new pr...  0\n",
              "2  /content/drive/My Drive/Colab Notebooks/new pr...  0\n",
              "3  /content/drive/My Drive/Colab Notebooks/new pr...  0\n",
              "4  /content/drive/My Drive/Colab Notebooks/new pr...  1"
            ]
          },
          "metadata": {
            "tags": []
          },
          "execution_count": 29
        }
      ]
    },
    {
      "cell_type": "code",
      "metadata": {
        "id": "_nvH3uoDBlw6",
        "colab_type": "code",
        "outputId": "aff063c8-1a9e-4238-f94c-92ca4826b569",
        "colab": {
          "base_uri": "https://localhost:8080/",
          "height": 119
        }
      },
      "source": [
        "test_data[\"filename\"].head()"
      ],
      "execution_count": 31,
      "outputs": [
        {
          "output_type": "execute_result",
          "data": {
            "text/plain": [
              "36175    /content/drive/My Drive/Colab Notebooks/new pr...\n",
              "36176    /content/drive/My Drive/Colab Notebooks/new pr...\n",
              "36177    /content/drive/My Drive/Colab Notebooks/new pr...\n",
              "36178    /content/drive/My Drive/Colab Notebooks/new pr...\n",
              "36179    /content/drive/My Drive/Colab Notebooks/new pr...\n",
              "Name: filename, dtype: object"
            ]
          },
          "metadata": {
            "tags": []
          },
          "execution_count": 31
        }
      ]
    },
    {
      "cell_type": "code",
      "metadata": {
        "id": "nLVn_WV6Cvla",
        "colab_type": "code",
        "outputId": "6533fc0f-bd3c-40c7-d039-748eb63d637d",
        "colab": {
          "base_uri": "https://localhost:8080/",
          "height": 68
        }
      },
      "source": [
        "new_test_data[0] = new_test_data[0].astype(str)\n",
        "new_test_data[1] = new_test_data[1].astype(int)\n",
        "new_test_data.dtypes"
      ],
      "execution_count": 35,
      "outputs": [
        {
          "output_type": "execute_result",
          "data": {
            "text/plain": [
              "0    object\n",
              "1     int64\n",
              "dtype: object"
            ]
          },
          "metadata": {
            "tags": []
          },
          "execution_count": 35
        }
      ]
    },
    {
      "cell_type": "code",
      "metadata": {
        "id": "r1QnGDgyk3gR",
        "colab_type": "code",
        "colab": {}
      },
      "source": [
        "new_test_data_gen = Image_bath_gen(new_test_data[0], new_test_data[1], 128)"
      ],
      "execution_count": 0,
      "outputs": []
    },
    {
      "cell_type": "code",
      "metadata": {
        "id": "z1rUhHsNBS-z",
        "colab_type": "code",
        "outputId": "dadd3ad6-e6fa-4a2a-f15d-487fdc75954a",
        "colab": {
          "base_uri": "https://localhost:8080/",
          "height": 51
        }
      },
      "source": [
        "model.evaluate(new_test_data_gen)"
      ],
      "execution_count": 38,
      "outputs": [
        {
          "output_type": "stream",
          "text": [
            "32/32 [==============================] - 172s 5s/step - loss: 0.7021 - accuracy: 0.6984\n"
          ],
          "name": "stdout"
        },
        {
          "output_type": "execute_result",
          "data": {
            "text/plain": [
              "[0.7021036148071289, 0.698432445526123]"
            ]
          },
          "metadata": {
            "tags": []
          },
          "execution_count": 38
        }
      ]
    },
    {
      "cell_type": "code",
      "metadata": {
        "id": "_BbsObsjKflU",
        "colab_type": "code",
        "colab": {}
      },
      "source": [
        "#[i[98:-4].split('_') for i in  new_test_data[0]][1800:]"
      ],
      "execution_count": 0,
      "outputs": []
    },
    {
      "cell_type": "code",
      "metadata": {
        "id": "ugQI8lK9D0CJ",
        "colab_type": "code",
        "outputId": "a4c2ce05-61da-415e-8a7c-73e83d8df978",
        "colab": {
          "base_uri": "https://localhost:8080/",
          "height": 34
        }
      },
      "source": [
        "gig = []\n",
        "for i in new_test_data[0].values:\n",
        "  element = i[98:-4].split('_')\n",
        "  if 'cp' in element:\n",
        "    gig.append(''.join([element[0],element[2]]))\n",
        "  else:\n",
        "    gig.append(''.join([element[0]]))\n",
        "gig[:5]"
      ],
      "execution_count": 40,
      "outputs": [
        {
          "output_type": "execute_result",
          "data": {
            "text/plain": [
              "['121cp', '121cp', '121cp', '121cp', '122cp']"
            ]
          },
          "metadata": {
            "tags": []
          },
          "execution_count": 40
        }
      ]
    },
    {
      "cell_type": "code",
      "metadata": {
        "id": "rS-ucYVaEQe0",
        "colab_type": "code",
        "outputId": "8fd90ab4-2c7a-4741-fcc8-648956d61db2",
        "colab": {
          "base_uri": "https://localhost:8080/",
          "height": 731
        }
      },
      "source": [
        "counts = np.unique(gig, return_counts=True)\n",
        "counts"
      ],
      "execution_count": 42,
      "outputs": [
        {
          "output_type": "execute_result",
          "data": {
            "text/plain": [
              "(array(['0', '0cp', '1', '10', '100', '100cp', '101', '101cp', '102',\n",
              "        '102cp', '103', '103cp', '104', '104cp', '105', '105cp', '106',\n",
              "        '106cp', '107', '107cp', '108', '108cp', '109', '109cp', '10cp',\n",
              "        '11', '110', '110cp', '111', '111cp', '11cp', '12', '121', '121cp',\n",
              "        '122', '122cp', '123', '123cp', '124', '124cp', '129', '129cp',\n",
              "        '12cp', '13', '130', '130cp', '131', '131cp', '132', '132cp',\n",
              "        '133', '133cp', '134', '134cp', '135', '135cp', '136', '136cp',\n",
              "        '13cp', '14', '14cp', '15', '15cp', '16', '16cp', '17', '17cp',\n",
              "        '18', '18cp', '19', '19cp', '1cp', '2', '20', '20cp', '21', '21cp',\n",
              "        '22', '22cp', '23', '23cp', '24', '24cp', '25', '25cp', '26',\n",
              "        '26cp', '27', '27cp', '28', '28cp', '29', '29cp', '2cp', '3', '30',\n",
              "        '30cp', '31', '31cp', '32', '32cp', '33', '33cp', '34', '34cp',\n",
              "        '35', '35cp', '36', '36cp', '37', '37cp', '38', '38cp', '39',\n",
              "        '39cp', '3cp', '4', '40', '40cp', '41', '41cp', '42', '42cp', '43',\n",
              "        '43cp', '44', '44cp', '45', '45cp', '46', '46cp', '47', '47cp',\n",
              "        '48', '48cp', '49', '49cp', '4cp', '5', '50', '50cp', '51', '51cp',\n",
              "        '52', '52cp', '53', '53cp', '54', '54cp', '55', '55cp', '56',\n",
              "        '56cp', '57', '57cp', '58', '58cp', '59', '59cp', '5cp', '6', '60',\n",
              "        '60cp', '61', '61cp', '62', '62cp', '63', '63cp', '64', '64cp',\n",
              "        '65', '65cp', '66', '66cp', '67', '67cp', '68', '68cp', '69',\n",
              "        '69cp', '6cp', '7', '70', '70cp', '71', '71cp', '72', '72cp', '73',\n",
              "        '73cp', '74', '74cp', '75', '75cp', '76', '76cp', '77', '77cp',\n",
              "        '78', '78cp', '79', '79cp', '7cp', '8', '80', '80cp', '81', '81cp',\n",
              "        '82', '82cp', '83', '83cp', '84', '84cp', '85', '85cp', '86',\n",
              "        '86cp', '8cp', '9', '90', '90cp', '91', '91cp', '92', '92cp', '93',\n",
              "        '93cp', '94', '94cp', '95', '95cp', '96', '96cp', '97', '97cp',\n",
              "        '98', '98cp', '99', '99cp', '9cp'], dtype='<U5'),\n",
              " array([17, 17,  7, 10,  5,  5, 14, 14, 20, 20, 24, 24, 15, 15,  9,  9, 12,\n",
              "        12, 17, 17, 23, 23, 17, 17, 10, 28, 17, 17, 16, 16, 28, 22,  3,  4,\n",
              "        20, 20, 12, 12,  5,  4,  1,  1, 22, 13, 32, 32, 23, 23, 20, 20, 18,\n",
              "        18, 17, 17, 17, 17,  2,  1, 13, 15, 15, 13, 13, 20, 20, 20, 20, 14,\n",
              "        14, 17, 17,  7, 28, 19, 19, 16, 16, 22, 22, 13, 13, 19, 19, 19, 19,\n",
              "        11, 11, 25, 25, 20, 20, 27, 27, 28, 13, 12, 12, 15, 15, 27, 27, 17,\n",
              "        17, 16, 16,  9,  9, 20, 20, 18, 18, 21, 21, 25, 25, 13, 25, 10, 10,\n",
              "        25, 25, 17, 17, 13, 13, 22, 22, 20, 20, 15, 15, 15, 15, 17, 17, 11,\n",
              "        11, 25, 17, 30, 30, 22, 22, 12, 12, 25, 25, 18, 18, 21, 21, 13, 13,\n",
              "        23, 23,  6,  6, 16, 16, 17, 22,  7,  7, 18, 18, 28, 28, 18, 18, 19,\n",
              "        19, 24, 24, 21, 21, 15, 15, 16, 16, 15, 15, 22, 17, 21, 21, 18, 18,\n",
              "        10, 10, 16, 16,  3,  3, 15, 15, 21, 21, 13, 13, 18, 18,  6,  6, 17,\n",
              "        18, 17, 17, 21, 21, 11, 11, 10, 10, 13, 13, 13, 13, 24, 24, 18, 14,\n",
              "        17, 17, 20, 20, 13, 13,  5,  5,  8,  8, 16, 16,  7,  7, 22, 22, 15,\n",
              "        15, 25, 25, 14]))"
            ]
          },
          "metadata": {
            "tags": []
          },
          "execution_count": 42
        }
      ]
    },
    {
      "cell_type": "code",
      "metadata": {
        "id": "A0YoPMmMRhLi",
        "colab_type": "code",
        "outputId": "bf15193d-a0b3-41c2-d763-c23bbc80a23f",
        "colab": {
          "base_uri": "https://localhost:8080/",
          "height": 34
        }
      },
      "source": [
        "sum(counts[1])"
      ],
      "execution_count": 43,
      "outputs": [
        {
          "output_type": "execute_result",
          "data": {
            "text/plain": [
              "4019"
            ]
          },
          "metadata": {
            "tags": []
          },
          "execution_count": 43
        }
      ]
    },
    {
      "cell_type": "code",
      "metadata": {
        "id": "8BRdcOSXWMck",
        "colab_type": "code",
        "colab": {}
      },
      "source": [
        "new_teoire = np.array([counts[0], counts[1]]).T"
      ],
      "execution_count": 0,
      "outputs": []
    },
    {
      "cell_type": "code",
      "metadata": {
        "id": "UYrAcTISRZnq",
        "colab_type": "code",
        "outputId": "eedb3953-f14a-4080-edc0-73ede1738ef7",
        "colab": {
          "base_uri": "https://localhost:8080/",
          "height": 419
        }
      },
      "source": [
        "new_teorie = df(new_teoire)\n",
        "new_teorie"
      ],
      "execution_count": 45,
      "outputs": [
        {
          "output_type": "execute_result",
          "data": {
            "text/html": [
              "<div>\n",
              "<style scoped>\n",
              "    .dataframe tbody tr th:only-of-type {\n",
              "        vertical-align: middle;\n",
              "    }\n",
              "\n",
              "    .dataframe tbody tr th {\n",
              "        vertical-align: top;\n",
              "    }\n",
              "\n",
              "    .dataframe thead th {\n",
              "        text-align: right;\n",
              "    }\n",
              "</style>\n",
              "<table border=\"1\" class=\"dataframe\">\n",
              "  <thead>\n",
              "    <tr style=\"text-align: right;\">\n",
              "      <th></th>\n",
              "      <th>0</th>\n",
              "      <th>1</th>\n",
              "    </tr>\n",
              "  </thead>\n",
              "  <tbody>\n",
              "    <tr>\n",
              "      <th>0</th>\n",
              "      <td>0</td>\n",
              "      <td>17</td>\n",
              "    </tr>\n",
              "    <tr>\n",
              "      <th>1</th>\n",
              "      <td>0cp</td>\n",
              "      <td>17</td>\n",
              "    </tr>\n",
              "    <tr>\n",
              "      <th>2</th>\n",
              "      <td>1</td>\n",
              "      <td>7</td>\n",
              "    </tr>\n",
              "    <tr>\n",
              "      <th>3</th>\n",
              "      <td>10</td>\n",
              "      <td>10</td>\n",
              "    </tr>\n",
              "    <tr>\n",
              "      <th>4</th>\n",
              "      <td>100</td>\n",
              "      <td>5</td>\n",
              "    </tr>\n",
              "    <tr>\n",
              "      <th>...</th>\n",
              "      <td>...</td>\n",
              "      <td>...</td>\n",
              "    </tr>\n",
              "    <tr>\n",
              "      <th>237</th>\n",
              "      <td>98</td>\n",
              "      <td>15</td>\n",
              "    </tr>\n",
              "    <tr>\n",
              "      <th>238</th>\n",
              "      <td>98cp</td>\n",
              "      <td>15</td>\n",
              "    </tr>\n",
              "    <tr>\n",
              "      <th>239</th>\n",
              "      <td>99</td>\n",
              "      <td>25</td>\n",
              "    </tr>\n",
              "    <tr>\n",
              "      <th>240</th>\n",
              "      <td>99cp</td>\n",
              "      <td>25</td>\n",
              "    </tr>\n",
              "    <tr>\n",
              "      <th>241</th>\n",
              "      <td>9cp</td>\n",
              "      <td>14</td>\n",
              "    </tr>\n",
              "  </tbody>\n",
              "</table>\n",
              "<p>242 rows × 2 columns</p>\n",
              "</div>"
            ],
            "text/plain": [
              "        0   1\n",
              "0       0  17\n",
              "1     0cp  17\n",
              "2       1   7\n",
              "3      10  10\n",
              "4     100   5\n",
              "..    ...  ..\n",
              "237    98  15\n",
              "238  98cp  15\n",
              "239    99  25\n",
              "240  99cp  25\n",
              "241   9cp  14\n",
              "\n",
              "[242 rows x 2 columns]"
            ]
          },
          "metadata": {
            "tags": []
          },
          "execution_count": 45
        }
      ]
    },
    {
      "cell_type": "code",
      "metadata": {
        "id": "DUnQ2PKoVrEQ",
        "colab_type": "code",
        "outputId": "f24ef45b-9196-4c57-e5af-66fc5f9b8660",
        "colab": {
          "base_uri": "https://localhost:8080/",
          "height": 204
        }
      },
      "source": [
        "test_data.head()"
      ],
      "execution_count": 46,
      "outputs": [
        {
          "output_type": "execute_result",
          "data": {
            "text/html": [
              "<div>\n",
              "<style scoped>\n",
              "    .dataframe tbody tr th:only-of-type {\n",
              "        vertical-align: middle;\n",
              "    }\n",
              "\n",
              "    .dataframe tbody tr th {\n",
              "        vertical-align: top;\n",
              "    }\n",
              "\n",
              "    .dataframe thead th {\n",
              "        text-align: right;\n",
              "    }\n",
              "</style>\n",
              "<table border=\"1\" class=\"dataframe\">\n",
              "  <thead>\n",
              "    <tr style=\"text-align: right;\">\n",
              "      <th></th>\n",
              "      <th>filename</th>\n",
              "      <th>lable</th>\n",
              "    </tr>\n",
              "  </thead>\n",
              "  <tbody>\n",
              "    <tr>\n",
              "      <th>36175</th>\n",
              "      <td>/content/drive/My Drive/Colab Notebooks/new pr...</td>\n",
              "      <td>0</td>\n",
              "    </tr>\n",
              "    <tr>\n",
              "      <th>36176</th>\n",
              "      <td>/content/drive/My Drive/Colab Notebooks/new pr...</td>\n",
              "      <td>0</td>\n",
              "    </tr>\n",
              "    <tr>\n",
              "      <th>36177</th>\n",
              "      <td>/content/drive/My Drive/Colab Notebooks/new pr...</td>\n",
              "      <td>0</td>\n",
              "    </tr>\n",
              "    <tr>\n",
              "      <th>36178</th>\n",
              "      <td>/content/drive/My Drive/Colab Notebooks/new pr...</td>\n",
              "      <td>0</td>\n",
              "    </tr>\n",
              "    <tr>\n",
              "      <th>36179</th>\n",
              "      <td>/content/drive/My Drive/Colab Notebooks/new pr...</td>\n",
              "      <td>0</td>\n",
              "    </tr>\n",
              "  </tbody>\n",
              "</table>\n",
              "</div>"
            ],
            "text/plain": [
              "                                                filename  lable\n",
              "36175  /content/drive/My Drive/Colab Notebooks/new pr...      0\n",
              "36176  /content/drive/My Drive/Colab Notebooks/new pr...      0\n",
              "36177  /content/drive/My Drive/Colab Notebooks/new pr...      0\n",
              "36178  /content/drive/My Drive/Colab Notebooks/new pr...      0\n",
              "36179  /content/drive/My Drive/Colab Notebooks/new pr...      0"
            ]
          },
          "metadata": {
            "tags": []
          },
          "execution_count": 46
        }
      ]
    },
    {
      "cell_type": "code",
      "metadata": {
        "id": "1olG8kEtGfhS",
        "colab_type": "code",
        "outputId": "c3be5357-bff5-4105-8126-dc588cb14463",
        "colab": {
          "base_uri": "https://localhost:8080/",
          "height": 160
        }
      },
      "source": [
        "sam = df(np.unique(gig, return_counts=True))\n",
        "sam.head()"
      ],
      "execution_count": 48,
      "outputs": [
        {
          "output_type": "execute_result",
          "data": {
            "text/html": [
              "<div>\n",
              "<style scoped>\n",
              "    .dataframe tbody tr th:only-of-type {\n",
              "        vertical-align: middle;\n",
              "    }\n",
              "\n",
              "    .dataframe tbody tr th {\n",
              "        vertical-align: top;\n",
              "    }\n",
              "\n",
              "    .dataframe thead th {\n",
              "        text-align: right;\n",
              "    }\n",
              "</style>\n",
              "<table border=\"1\" class=\"dataframe\">\n",
              "  <thead>\n",
              "    <tr style=\"text-align: right;\">\n",
              "      <th></th>\n",
              "      <th>0</th>\n",
              "      <th>1</th>\n",
              "      <th>2</th>\n",
              "      <th>3</th>\n",
              "      <th>4</th>\n",
              "      <th>5</th>\n",
              "      <th>6</th>\n",
              "      <th>7</th>\n",
              "      <th>8</th>\n",
              "      <th>9</th>\n",
              "      <th>10</th>\n",
              "      <th>11</th>\n",
              "      <th>12</th>\n",
              "      <th>13</th>\n",
              "      <th>14</th>\n",
              "      <th>15</th>\n",
              "      <th>16</th>\n",
              "      <th>17</th>\n",
              "      <th>18</th>\n",
              "      <th>19</th>\n",
              "      <th>20</th>\n",
              "      <th>21</th>\n",
              "      <th>22</th>\n",
              "      <th>23</th>\n",
              "      <th>24</th>\n",
              "      <th>25</th>\n",
              "      <th>26</th>\n",
              "      <th>27</th>\n",
              "      <th>28</th>\n",
              "      <th>29</th>\n",
              "      <th>30</th>\n",
              "      <th>31</th>\n",
              "      <th>32</th>\n",
              "      <th>33</th>\n",
              "      <th>34</th>\n",
              "      <th>35</th>\n",
              "      <th>36</th>\n",
              "      <th>37</th>\n",
              "      <th>38</th>\n",
              "      <th>39</th>\n",
              "      <th>...</th>\n",
              "      <th>202</th>\n",
              "      <th>203</th>\n",
              "      <th>204</th>\n",
              "      <th>205</th>\n",
              "      <th>206</th>\n",
              "      <th>207</th>\n",
              "      <th>208</th>\n",
              "      <th>209</th>\n",
              "      <th>210</th>\n",
              "      <th>211</th>\n",
              "      <th>212</th>\n",
              "      <th>213</th>\n",
              "      <th>214</th>\n",
              "      <th>215</th>\n",
              "      <th>216</th>\n",
              "      <th>217</th>\n",
              "      <th>218</th>\n",
              "      <th>219</th>\n",
              "      <th>220</th>\n",
              "      <th>221</th>\n",
              "      <th>222</th>\n",
              "      <th>223</th>\n",
              "      <th>224</th>\n",
              "      <th>225</th>\n",
              "      <th>226</th>\n",
              "      <th>227</th>\n",
              "      <th>228</th>\n",
              "      <th>229</th>\n",
              "      <th>230</th>\n",
              "      <th>231</th>\n",
              "      <th>232</th>\n",
              "      <th>233</th>\n",
              "      <th>234</th>\n",
              "      <th>235</th>\n",
              "      <th>236</th>\n",
              "      <th>237</th>\n",
              "      <th>238</th>\n",
              "      <th>239</th>\n",
              "      <th>240</th>\n",
              "      <th>241</th>\n",
              "    </tr>\n",
              "  </thead>\n",
              "  <tbody>\n",
              "    <tr>\n",
              "      <th>0</th>\n",
              "      <td>0</td>\n",
              "      <td>0cp</td>\n",
              "      <td>1</td>\n",
              "      <td>10</td>\n",
              "      <td>100</td>\n",
              "      <td>100cp</td>\n",
              "      <td>101</td>\n",
              "      <td>101cp</td>\n",
              "      <td>102</td>\n",
              "      <td>102cp</td>\n",
              "      <td>103</td>\n",
              "      <td>103cp</td>\n",
              "      <td>104</td>\n",
              "      <td>104cp</td>\n",
              "      <td>105</td>\n",
              "      <td>105cp</td>\n",
              "      <td>106</td>\n",
              "      <td>106cp</td>\n",
              "      <td>107</td>\n",
              "      <td>107cp</td>\n",
              "      <td>108</td>\n",
              "      <td>108cp</td>\n",
              "      <td>109</td>\n",
              "      <td>109cp</td>\n",
              "      <td>10cp</td>\n",
              "      <td>11</td>\n",
              "      <td>110</td>\n",
              "      <td>110cp</td>\n",
              "      <td>111</td>\n",
              "      <td>111cp</td>\n",
              "      <td>11cp</td>\n",
              "      <td>12</td>\n",
              "      <td>121</td>\n",
              "      <td>121cp</td>\n",
              "      <td>122</td>\n",
              "      <td>122cp</td>\n",
              "      <td>123</td>\n",
              "      <td>123cp</td>\n",
              "      <td>124</td>\n",
              "      <td>124cp</td>\n",
              "      <td>...</td>\n",
              "      <td>79cp</td>\n",
              "      <td>7cp</td>\n",
              "      <td>8</td>\n",
              "      <td>80</td>\n",
              "      <td>80cp</td>\n",
              "      <td>81</td>\n",
              "      <td>81cp</td>\n",
              "      <td>82</td>\n",
              "      <td>82cp</td>\n",
              "      <td>83</td>\n",
              "      <td>83cp</td>\n",
              "      <td>84</td>\n",
              "      <td>84cp</td>\n",
              "      <td>85</td>\n",
              "      <td>85cp</td>\n",
              "      <td>86</td>\n",
              "      <td>86cp</td>\n",
              "      <td>8cp</td>\n",
              "      <td>9</td>\n",
              "      <td>90</td>\n",
              "      <td>90cp</td>\n",
              "      <td>91</td>\n",
              "      <td>91cp</td>\n",
              "      <td>92</td>\n",
              "      <td>92cp</td>\n",
              "      <td>93</td>\n",
              "      <td>93cp</td>\n",
              "      <td>94</td>\n",
              "      <td>94cp</td>\n",
              "      <td>95</td>\n",
              "      <td>95cp</td>\n",
              "      <td>96</td>\n",
              "      <td>96cp</td>\n",
              "      <td>97</td>\n",
              "      <td>97cp</td>\n",
              "      <td>98</td>\n",
              "      <td>98cp</td>\n",
              "      <td>99</td>\n",
              "      <td>99cp</td>\n",
              "      <td>9cp</td>\n",
              "    </tr>\n",
              "    <tr>\n",
              "      <th>1</th>\n",
              "      <td>17</td>\n",
              "      <td>17</td>\n",
              "      <td>7</td>\n",
              "      <td>10</td>\n",
              "      <td>5</td>\n",
              "      <td>5</td>\n",
              "      <td>14</td>\n",
              "      <td>14</td>\n",
              "      <td>20</td>\n",
              "      <td>20</td>\n",
              "      <td>24</td>\n",
              "      <td>24</td>\n",
              "      <td>15</td>\n",
              "      <td>15</td>\n",
              "      <td>9</td>\n",
              "      <td>9</td>\n",
              "      <td>12</td>\n",
              "      <td>12</td>\n",
              "      <td>17</td>\n",
              "      <td>17</td>\n",
              "      <td>23</td>\n",
              "      <td>23</td>\n",
              "      <td>17</td>\n",
              "      <td>17</td>\n",
              "      <td>10</td>\n",
              "      <td>28</td>\n",
              "      <td>17</td>\n",
              "      <td>17</td>\n",
              "      <td>16</td>\n",
              "      <td>16</td>\n",
              "      <td>28</td>\n",
              "      <td>22</td>\n",
              "      <td>3</td>\n",
              "      <td>4</td>\n",
              "      <td>20</td>\n",
              "      <td>20</td>\n",
              "      <td>12</td>\n",
              "      <td>12</td>\n",
              "      <td>5</td>\n",
              "      <td>4</td>\n",
              "      <td>...</td>\n",
              "      <td>6</td>\n",
              "      <td>17</td>\n",
              "      <td>18</td>\n",
              "      <td>17</td>\n",
              "      <td>17</td>\n",
              "      <td>21</td>\n",
              "      <td>21</td>\n",
              "      <td>11</td>\n",
              "      <td>11</td>\n",
              "      <td>10</td>\n",
              "      <td>10</td>\n",
              "      <td>13</td>\n",
              "      <td>13</td>\n",
              "      <td>13</td>\n",
              "      <td>13</td>\n",
              "      <td>24</td>\n",
              "      <td>24</td>\n",
              "      <td>18</td>\n",
              "      <td>14</td>\n",
              "      <td>17</td>\n",
              "      <td>17</td>\n",
              "      <td>20</td>\n",
              "      <td>20</td>\n",
              "      <td>13</td>\n",
              "      <td>13</td>\n",
              "      <td>5</td>\n",
              "      <td>5</td>\n",
              "      <td>8</td>\n",
              "      <td>8</td>\n",
              "      <td>16</td>\n",
              "      <td>16</td>\n",
              "      <td>7</td>\n",
              "      <td>7</td>\n",
              "      <td>22</td>\n",
              "      <td>22</td>\n",
              "      <td>15</td>\n",
              "      <td>15</td>\n",
              "      <td>25</td>\n",
              "      <td>25</td>\n",
              "      <td>14</td>\n",
              "    </tr>\n",
              "  </tbody>\n",
              "</table>\n",
              "<p>2 rows × 242 columns</p>\n",
              "</div>"
            ],
            "text/plain": [
              "  0    1   2   3    4      5    6    ... 235   236 237   238 239   240  241\n",
              "0   0  0cp   1  10  100  100cp  101  ...  97  97cp  98  98cp  99  99cp  9cp\n",
              "1  17   17   7  10    5      5   14  ...  22    22  15    15  25    25   14\n",
              "\n",
              "[2 rows x 242 columns]"
            ]
          },
          "metadata": {
            "tags": []
          },
          "execution_count": 48
        }
      ]
    },
    {
      "cell_type": "code",
      "metadata": {
        "id": "JyWlGpZpGBG0",
        "colab_type": "code",
        "outputId": "ce891414-8c70-4eda-ea3a-42a32c37728a",
        "colab": {
          "base_uri": "https://localhost:8080/",
          "height": 731
        }
      },
      "source": [
        "np.unique(counts, return_counts=True)"
      ],
      "execution_count": 49,
      "outputs": [
        {
          "output_type": "execute_result",
          "data": {
            "text/plain": [
              "(array(['0', '0cp', '1', '10', '100', '100cp', '101', '101cp', '102',\n",
              "        '102cp', '103', '103cp', '104', '104cp', '105', '105cp', '106',\n",
              "        '106cp', '107', '107cp', '108', '108cp', '109', '109cp', '10cp',\n",
              "        '11', '110', '110cp', '111', '111cp', '11cp', '12', '121', '121cp',\n",
              "        '122', '122cp', '123', '123cp', '124', '124cp', '129', '129cp',\n",
              "        '12cp', '13', '130', '130cp', '131', '131cp', '132', '132cp',\n",
              "        '133', '133cp', '134', '134cp', '135', '135cp', '136', '136cp',\n",
              "        '13cp', '14', '14cp', '15', '15cp', '16', '16cp', '17', '17cp',\n",
              "        '18', '18cp', '19', '19cp', '1cp', '2', '20', '20cp', '21', '21cp',\n",
              "        '22', '22cp', '23', '23cp', '24', '24cp', '25', '25cp', '26',\n",
              "        '26cp', '27', '27cp', '28', '28cp', '29', '29cp', '2cp', '3', '30',\n",
              "        '30cp', '31', '31cp', '32', '32cp', '33', '33cp', '34', '34cp',\n",
              "        '35', '35cp', '36', '36cp', '37', '37cp', '38', '38cp', '39',\n",
              "        '39cp', '3cp', '4', '40', '40cp', '41', '41cp', '42', '42cp', '43',\n",
              "        '43cp', '44', '44cp', '45', '45cp', '46', '46cp', '47', '47cp',\n",
              "        '48', '48cp', '49', '49cp', '4cp', '5', '50', '50cp', '51', '51cp',\n",
              "        '52', '52cp', '53', '53cp', '54', '54cp', '55', '55cp', '56',\n",
              "        '56cp', '57', '57cp', '58', '58cp', '59', '59cp', '5cp', '6', '60',\n",
              "        '60cp', '61', '61cp', '62', '62cp', '63', '63cp', '64', '64cp',\n",
              "        '65', '65cp', '66', '66cp', '67', '67cp', '68', '68cp', '69',\n",
              "        '69cp', '6cp', '7', '70', '70cp', '71', '71cp', '72', '72cp', '73',\n",
              "        '73cp', '74', '74cp', '75', '75cp', '76', '76cp', '77', '77cp',\n",
              "        '78', '78cp', '79', '79cp', '7cp', '8', '80', '80cp', '81', '81cp',\n",
              "        '82', '82cp', '83', '83cp', '84', '84cp', '85', '85cp', '86',\n",
              "        '86cp', '8cp', '9', '90', '90cp', '91', '91cp', '92', '92cp', '93',\n",
              "        '93cp', '94', '94cp', '95', '95cp', '96', '96cp', '97', '97cp',\n",
              "        '98', '98cp', '99', '99cp', '9cp'], dtype='<U21'),\n",
              " array([ 1,  1,  4,  9,  1,  1,  1,  1,  1,  1,  1,  1,  1,  1,  1,  1,  1,\n",
              "         1,  1,  1,  1,  1,  1,  1,  1,  7,  1,  1,  1,  1,  1,  9,  1,  1,\n",
              "         1,  1,  1,  1,  1,  1,  1,  1,  1, 21,  1,  1,  1,  1,  1,  1,  1,\n",
              "         1,  1,  1,  1,  1,  1,  1,  1,  7,  1, 19,  1, 15,  1, 29,  1, 17,\n",
              "         1,  9,  1,  1,  2, 19,  1, 13,  1, 13,  1,  7,  1,  7,  1, 13,  1,\n",
              "         1,  1,  5,  1,  7,  1,  1,  1,  1,  4,  3,  1,  1,  1,  3,  1,  1,\n",
              "         1,  1,  1,  1,  1,  1,  1,  1,  1,  1,  1,  1,  1,  1,  3,  1,  1,\n",
              "         1,  1,  1,  1,  1,  1,  1,  1,  1,  1,  1,  1,  1,  1,  1,  1,  1,\n",
              "         1,  1,  6,  1,  1,  1,  1,  1,  1,  1,  1,  1,  1,  1,  1,  1,  1,\n",
              "         1,  1,  1,  1,  1,  1,  1,  5,  1,  1,  1,  1,  1,  1,  1,  1,  1,\n",
              "         1,  1,  1,  1,  1,  1,  1,  1,  1,  1,  1,  1,  7,  1,  1,  1,  1,\n",
              "         1,  1,  1,  1,  1,  1,  1,  1,  1,  1,  1,  1,  1,  1,  1,  1,  1,\n",
              "         3,  1,  1,  1,  1,  1,  1,  1,  1,  1,  1,  1,  1,  1,  1,  1,  5,\n",
              "         1,  1,  1,  1,  1,  1,  1,  1,  1,  1,  1,  1,  1,  1,  1,  1,  1,\n",
              "         1,  1,  1,  1]))"
            ]
          },
          "metadata": {
            "tags": []
          },
          "execution_count": 49
        }
      ]
    },
    {
      "cell_type": "code",
      "metadata": {
        "id": "OWiiyN76GTj4",
        "colab_type": "code",
        "outputId": "0e4e470e-cb2f-4fda-edb6-ec62bc4bd8e6",
        "colab": {
          "base_uri": "https://localhost:8080/",
          "height": 34
        }
      },
      "source": [
        "len(counts)"
      ],
      "execution_count": 50,
      "outputs": [
        {
          "output_type": "execute_result",
          "data": {
            "text/plain": [
              "2"
            ]
          },
          "metadata": {
            "tags": []
          },
          "execution_count": 50
        }
      ]
    },
    {
      "cell_type": "code",
      "metadata": {
        "id": "mBEsUhq2HuO-",
        "colab_type": "code",
        "outputId": "e87d59a1-824c-4720-9636-09345c75b600",
        "colab": {
          "base_uri": "https://localhost:8080/",
          "height": 204
        }
      },
      "source": [
        "tr_cp = []\n",
        "non_tr_cp = []\n",
        "for i in range(train_data.shape[0]):\n",
        "  if i % 2 == 0:\n",
        "    tr_cp.append(train_data.iloc[i].values)\n",
        "  else:\n",
        "    non_tr_cp.append(train_data.iloc[i].values)\n",
        "new_train_data = np.concatenate((tr_cp, non_tr_cp))\n",
        "new_train_data = df(new_train_data)\n",
        "new_train_data.head()"
      ],
      "execution_count": 51,
      "outputs": [
        {
          "output_type": "execute_result",
          "data": {
            "text/html": [
              "<div>\n",
              "<style scoped>\n",
              "    .dataframe tbody tr th:only-of-type {\n",
              "        vertical-align: middle;\n",
              "    }\n",
              "\n",
              "    .dataframe tbody tr th {\n",
              "        vertical-align: top;\n",
              "    }\n",
              "\n",
              "    .dataframe thead th {\n",
              "        text-align: right;\n",
              "    }\n",
              "</style>\n",
              "<table border=\"1\" class=\"dataframe\">\n",
              "  <thead>\n",
              "    <tr style=\"text-align: right;\">\n",
              "      <th></th>\n",
              "      <th>0</th>\n",
              "      <th>1</th>\n",
              "    </tr>\n",
              "  </thead>\n",
              "  <tbody>\n",
              "    <tr>\n",
              "      <th>0</th>\n",
              "      <td>/content/drive/My Drive/Colab Notebooks/new pr...</td>\n",
              "      <td>0</td>\n",
              "    </tr>\n",
              "    <tr>\n",
              "      <th>1</th>\n",
              "      <td>/content/drive/My Drive/Colab Notebooks/new pr...</td>\n",
              "      <td>0</td>\n",
              "    </tr>\n",
              "    <tr>\n",
              "      <th>2</th>\n",
              "      <td>/content/drive/My Drive/Colab Notebooks/new pr...</td>\n",
              "      <td>0</td>\n",
              "    </tr>\n",
              "    <tr>\n",
              "      <th>3</th>\n",
              "      <td>/content/drive/My Drive/Colab Notebooks/new pr...</td>\n",
              "      <td>0</td>\n",
              "    </tr>\n",
              "    <tr>\n",
              "      <th>4</th>\n",
              "      <td>/content/drive/My Drive/Colab Notebooks/new pr...</td>\n",
              "      <td>0</td>\n",
              "    </tr>\n",
              "  </tbody>\n",
              "</table>\n",
              "</div>"
            ],
            "text/plain": [
              "                                                   0  1\n",
              "0  /content/drive/My Drive/Colab Notebooks/new pr...  0\n",
              "1  /content/drive/My Drive/Colab Notebooks/new pr...  0\n",
              "2  /content/drive/My Drive/Colab Notebooks/new pr...  0\n",
              "3  /content/drive/My Drive/Colab Notebooks/new pr...  0\n",
              "4  /content/drive/My Drive/Colab Notebooks/new pr...  0"
            ]
          },
          "metadata": {
            "tags": []
          },
          "execution_count": 51
        }
      ]
    },
    {
      "cell_type": "code",
      "metadata": {
        "id": "jn_maKvgILyB",
        "colab_type": "code",
        "outputId": "08e855d3-0331-4400-c303-8abb32087f99",
        "colab": {
          "base_uri": "https://localhost:8080/",
          "height": 34
        }
      },
      "source": [
        "new_train_data.shape"
      ],
      "execution_count": 52,
      "outputs": [
        {
          "output_type": "execute_result",
          "data": {
            "text/plain": [
              "(36175, 2)"
            ]
          },
          "metadata": {
            "tags": []
          },
          "execution_count": 52
        }
      ]
    },
    {
      "cell_type": "code",
      "metadata": {
        "id": "CTwd_XoyIZEe",
        "colab_type": "code",
        "outputId": "2c704b8c-634d-48ca-ae16-7c92d537bb2e",
        "colab": {
          "base_uri": "https://localhost:8080/",
          "height": 34
        }
      },
      "source": [
        "gig2 = []\n",
        "for i in new_train_data[0].values:\n",
        "  element = i[98:-4].split('_')\n",
        "  if 'cp' in element:\n",
        "    gig2.append(''.join([element[0],element[2]]))\n",
        "  else:\n",
        "    gig2.append(''.join([element[0]]))\n",
        "gig2[:5]"
      ],
      "execution_count": 53,
      "outputs": [
        {
          "output_type": "execute_result",
          "data": {
            "text/plain": [
              "['1093cp', '1093cp', '1093cp', '1093cp', '1093cp']"
            ]
          },
          "metadata": {
            "tags": []
          },
          "execution_count": 53
        }
      ]
    },
    {
      "cell_type": "code",
      "metadata": {
        "id": "WCwk49WEI1G1",
        "colab_type": "code",
        "colab": {}
      },
      "source": [
        "count2 = np.unique(gig2, return_counts=True)[1]"
      ],
      "execution_count": 0,
      "outputs": []
    },
    {
      "cell_type": "code",
      "metadata": {
        "id": "YE-Ci3tNJUMO",
        "colab_type": "code",
        "outputId": "083395c6-27e9-44a0-8bac-2e5185759534",
        "colab": {
          "base_uri": "https://localhost:8080/",
          "height": 34
        }
      },
      "source": [
        "count2"
      ],
      "execution_count": 55,
      "outputs": [
        {
          "output_type": "execute_result",
          "data": {
            "text/plain": [
              "array([24, 24, 21, ..., 17, 26, 26])"
            ]
          },
          "metadata": {
            "tags": []
          },
          "execution_count": 55
        }
      ]
    },
    {
      "cell_type": "code",
      "metadata": {
        "id": "uJIUsNGGJAq6",
        "colab_type": "code",
        "outputId": "7d303ac0-167b-4ed1-e6d7-d25e3aac7da3",
        "colab": {
          "base_uri": "https://localhost:8080/",
          "height": 265
        }
      },
      "source": [
        "import matplotlib.pyplot as plt\n",
        "plt.hist(count2, 50)\n",
        "plt.show()"
      ],
      "execution_count": 56,
      "outputs": [
        {
          "output_type": "display_data",
          "data": {
            "image/png": "[encoded data removed]",
            "text/plain": [
              "<Figure size 432x288 with 1 Axes>"
            ]
          },
          "metadata": {
            "tags": [],
            "needs_background": "light"
          }
        }
      ]
    },
    {
      "cell_type": "code",
      "metadata": {
        "id": "1YlYr6dxeBN_",
        "colab_type": "code",
        "outputId": "1654df29-4025-4c92-e181-1ef1d87ada07",
        "colab": {
          "base_uri": "https://localhost:8080/",
          "height": 34
        }
      },
      "source": [
        "gig_true = []\n",
        "cache = []\n",
        "for i in gig:\n",
        "  if i not in gig_true:\n",
        "    gig_true.append(i)\n",
        "\n",
        "gig_true[:5]\n"
      ],
      "execution_count": 58,
      "outputs": [
        {
          "output_type": "execute_result",
          "data": {
            "text/plain": [
              "['121cp', '122cp', '123cp', '124cp', '99cp']"
            ]
          },
          "metadata": {
            "tags": []
          },
          "execution_count": 58
        }
      ]
    },
    {
      "cell_type": "code",
      "metadata": {
        "id": "LvUV03zafwNC",
        "colab_type": "code",
        "outputId": "3b19917d-7112-478c-f677-400fe79909ab",
        "colab": {
          "base_uri": "https://localhost:8080/",
          "height": 1000
        }
      },
      "source": [
        "counts\n",
        "counts_dict = {}\n",
        "for i in range(len(counts[0])):\n",
        "  counts_dict[counts[0][i]] = counts[1][i]\n",
        "counts_dict"
      ],
      "execution_count": 60,
      "outputs": [
        {
          "output_type": "execute_result",
          "data": {
            "text/plain": [
              "{'0': 17,\n",
              " '0cp': 17,\n",
              " '1': 7,\n",
              " '10': 10,\n",
              " '100': 5,\n",
              " '100cp': 5,\n",
              " '101': 14,\n",
              " '101cp': 14,\n",
              " '102': 20,\n",
              " '102cp': 20,\n",
              " '103': 24,\n",
              " '103cp': 24,\n",
              " '104': 15,\n",
              " '104cp': 15,\n",
              " '105': 9,\n",
              " '105cp': 9,\n",
              " '106': 12,\n",
              " '106cp': 12,\n",
              " '107': 17,\n",
              " '107cp': 17,\n",
              " '108': 23,\n",
              " '108cp': 23,\n",
              " '109': 17,\n",
              " '109cp': 17,\n",
              " '10cp': 10,\n",
              " '11': 28,\n",
              " '110': 17,\n",
              " '110cp': 17,\n",
              " '111': 16,\n",
              " '111cp': 16,\n",
              " '11cp': 28,\n",
              " '12': 22,\n",
              " '121': 3,\n",
              " '121cp': 4,\n",
              " '122': 20,\n",
              " '122cp': 20,\n",
              " '123': 12,\n",
              " '123cp': 12,\n",
              " '124': 5,\n",
              " '124cp': 4,\n",
              " '129': 1,\n",
              " '129cp': 1,\n",
              " '12cp': 22,\n",
              " '13': 13,\n",
              " '130': 32,\n",
              " '130cp': 32,\n",
              " '131': 23,\n",
              " '131cp': 23,\n",
              " '132': 20,\n",
              " '132cp': 20,\n",
              " '133': 18,\n",
              " '133cp': 18,\n",
              " '134': 17,\n",
              " '134cp': 17,\n",
              " '135': 17,\n",
              " '135cp': 17,\n",
              " '136': 2,\n",
              " '136cp': 1,\n",
              " '13cp': 13,\n",
              " '14': 15,\n",
              " '14cp': 15,\n",
              " '15': 13,\n",
              " '15cp': 13,\n",
              " '16': 20,\n",
              " '16cp': 20,\n",
              " '17': 20,\n",
              " '17cp': 20,\n",
              " '18': 14,\n",
              " '18cp': 14,\n",
              " '19': 17,\n",
              " '19cp': 17,\n",
              " '1cp': 7,\n",
              " '2': 28,\n",
              " '20': 19,\n",
              " '20cp': 19,\n",
              " '21': 16,\n",
              " '21cp': 16,\n",
              " '22': 22,\n",
              " '22cp': 22,\n",
              " '23': 13,\n",
              " '23cp': 13,\n",
              " '24': 19,\n",
              " '24cp': 19,\n",
              " '25': 19,\n",
              " '25cp': 19,\n",
              " '26': 11,\n",
              " '26cp': 11,\n",
              " '27': 25,\n",
              " '27cp': 25,\n",
              " '28': 20,\n",
              " '28cp': 20,\n",
              " '29': 27,\n",
              " '29cp': 27,\n",
              " '2cp': 28,\n",
              " '3': 13,\n",
              " '30': 12,\n",
              " '30cp': 12,\n",
              " '31': 15,\n",
              " '31cp': 15,\n",
              " '32': 27,\n",
              " '32cp': 27,\n",
              " '33': 17,\n",
              " '33cp': 17,\n",
              " '34': 16,\n",
              " '34cp': 16,\n",
              " '35': 9,\n",
              " '35cp': 9,\n",
              " '36': 20,\n",
              " '36cp': 20,\n",
              " '37': 18,\n",
              " '37cp': 18,\n",
              " '38': 21,\n",
              " '38cp': 21,\n",
              " '39': 25,\n",
              " '39cp': 25,\n",
              " '3cp': 13,\n",
              " '4': 25,\n",
              " '40': 10,\n",
              " '40cp': 10,\n",
              " '41': 25,\n",
              " '41cp': 25,\n",
              " '42': 17,\n",
              " '42cp': 17,\n",
              " '43': 13,\n",
              " '43cp': 13,\n",
              " '44': 22,\n",
              " '44cp': 22,\n",
              " '45': 20,\n",
              " '45cp': 20,\n",
              " '46': 15,\n",
              " '46cp': 15,\n",
              " '47': 15,\n",
              " '47cp': 15,\n",
              " '48': 17,\n",
              " '48cp': 17,\n",
              " '49': 11,\n",
              " '49cp': 11,\n",
              " '4cp': 25,\n",
              " '5': 17,\n",
              " '50': 30,\n",
              " '50cp': 30,\n",
              " '51': 22,\n",
              " '51cp': 22,\n",
              " '52': 12,\n",
              " '52cp': 12,\n",
              " '53': 25,\n",
              " '53cp': 25,\n",
              " '54': 18,\n",
              " '54cp': 18,\n",
              " '55': 21,\n",
              " '55cp': 21,\n",
              " '56': 13,\n",
              " '56cp': 13,\n",
              " '57': 23,\n",
              " '57cp': 23,\n",
              " '58': 6,\n",
              " '58cp': 6,\n",
              " '59': 16,\n",
              " '59cp': 16,\n",
              " '5cp': 17,\n",
              " '6': 22,\n",
              " '60': 7,\n",
              " '60cp': 7,\n",
              " '61': 18,\n",
              " '61cp': 18,\n",
              " '62': 28,\n",
              " '62cp': 28,\n",
              " '63': 18,\n",
              " '63cp': 18,\n",
              " '64': 19,\n",
              " '64cp': 19,\n",
              " '65': 24,\n",
              " '65cp': 24,\n",
              " '66': 21,\n",
              " '66cp': 21,\n",
              " '67': 15,\n",
              " '67cp': 15,\n",
              " '68': 16,\n",
              " '68cp': 16,\n",
              " '69': 15,\n",
              " '69cp': 15,\n",
              " '6cp': 22,\n",
              " '7': 17,\n",
              " '70': 21,\n",
              " '70cp': 21,\n",
              " '71': 18,\n",
              " '71cp': 18,\n",
              " '72': 10,\n",
              " '72cp': 10,\n",
              " '73': 16,\n",
              " '73cp': 16,\n",
              " '74': 3,\n",
              " '74cp': 3,\n",
              " '75': 15,\n",
              " '75cp': 15,\n",
              " '76': 21,\n",
              " '76cp': 21,\n",
              " '77': 13,\n",
              " '77cp': 13,\n",
              " '78': 18,\n",
              " '78cp': 18,\n",
              " '79': 6,\n",
              " '79cp': 6,\n",
              " '7cp': 17,\n",
              " '8': 18,\n",
              " '80': 17,\n",
              " '80cp': 17,\n",
              " '81': 21,\n",
              " '81cp': 21,\n",
              " '82': 11,\n",
              " '82cp': 11,\n",
              " '83': 10,\n",
              " '83cp': 10,\n",
              " '84': 13,\n",
              " '84cp': 13,\n",
              " '85': 13,\n",
              " '85cp': 13,\n",
              " '86': 24,\n",
              " '86cp': 24,\n",
              " '8cp': 18,\n",
              " '9': 14,\n",
              " '90': 17,\n",
              " '90cp': 17,\n",
              " '91': 20,\n",
              " '91cp': 20,\n",
              " '92': 13,\n",
              " '92cp': 13,\n",
              " '93': 5,\n",
              " '93cp': 5,\n",
              " '94': 8,\n",
              " '94cp': 8,\n",
              " '95': 16,\n",
              " '95cp': 16,\n",
              " '96': 7,\n",
              " '96cp': 7,\n",
              " '97': 22,\n",
              " '97cp': 22,\n",
              " '98': 15,\n",
              " '98cp': 15,\n",
              " '99': 25,\n",
              " '99cp': 25,\n",
              " '9cp': 14}"
            ]
          },
          "metadata": {
            "tags": []
          },
          "execution_count": 60
        }
      ]
    },
    {
      "cell_type": "code",
      "metadata": {
        "id": "s110yVljghh6",
        "colab_type": "code",
        "colab": {}
      },
      "source": [
        "sequ = [counts_dict[i] for i in gig_true]"
      ],
      "execution_count": 0,
      "outputs": []
    },
    {
      "cell_type": "code",
      "metadata": {
        "id": "BPnK_SZNhXrh",
        "colab_type": "code",
        "outputId": "fc3183f3-1ae8-4953-d3b6-4324507312c1",
        "colab": {
          "base_uri": "https://localhost:8080/",
          "height": 697
        }
      },
      "source": [
        "new_test_data.head(20).values"
      ],
      "execution_count": 62,
      "outputs": [
        {
          "output_type": "execute_result",
          "data": {
            "text/plain": [
              "array([['/content/drive/My Drive/Colab Notebooks/new project/new data/new idea/spectogram data/cutted_data_121_11_cp.png',\n",
              "        0],\n",
              "       ['/content/drive/My Drive/Colab Notebooks/new project/new data/new idea/spectogram data/cutted_data_121_12_cp.png',\n",
              "        0],\n",
              "       ['/content/drive/My Drive/Colab Notebooks/new project/new data/new idea/spectogram data/cutted_data_121_13_cp.png',\n",
              "        0],\n",
              "       ['/content/drive/My Drive/Colab Notebooks/new project/new data/new idea/spectogram data/cutted_data_121_14_cp.png',\n",
              "        0],\n",
              "       ['/content/drive/My Drive/Colab Notebooks/new project/new data/new idea/spectogram data/cutted_data_122_0_cp.png',\n",
              "        1],\n",
              "       ['/content/drive/My Drive/Colab Notebooks/new project/new data/new idea/spectogram data/cutted_data_122_1_cp.png',\n",
              "        1],\n",
              "       ['/content/drive/My Drive/Colab Notebooks/new project/new data/new idea/spectogram data/cutted_data_122_2_cp.png',\n",
              "        1],\n",
              "       ['/content/drive/My Drive/Colab Notebooks/new project/new data/new idea/spectogram data/cutted_data_122_3_cp.png',\n",
              "        1],\n",
              "       ['/content/drive/My Drive/Colab Notebooks/new project/new data/new idea/spectogram data/cutted_data_122_4_cp.png',\n",
              "        1],\n",
              "       ['/content/drive/My Drive/Colab Notebooks/new project/new data/new idea/spectogram data/cutted_data_122_5_cp.png',\n",
              "        1],\n",
              "       ['/content/drive/My Drive/Colab Notebooks/new project/new data/new idea/spectogram data/cutted_data_122_6_cp.png',\n",
              "        1],\n",
              "       ['/content/drive/My Drive/Colab Notebooks/new project/new data/new idea/spectogram data/cutted_data_122_7_cp.png',\n",
              "        1],\n",
              "       ['/content/drive/My Drive/Colab Notebooks/new project/new data/new idea/spectogram data/cutted_data_122_8_cp.png',\n",
              "        1],\n",
              "       ['/content/drive/My Drive/Colab Notebooks/new project/new data/new idea/spectogram data/cutted_data_122_9_cp.png',\n",
              "        1],\n",
              "       ['/content/drive/My Drive/Colab Notebooks/new project/new data/new idea/spectogram data/cutted_data_122_10_cp.png',\n",
              "        1],\n",
              "       ['/content/drive/My Drive/Colab Notebooks/new project/new data/new idea/spectogram data/cutted_data_122_11_cp.png',\n",
              "        1],\n",
              "       ['/content/drive/My Drive/Colab Notebooks/new project/new data/new idea/spectogram data/cutted_data_122_12_cp.png',\n",
              "        1],\n",
              "       ['/content/drive/My Drive/Colab Notebooks/new project/new data/new idea/spectogram data/cutted_data_122_13_cp.png',\n",
              "        1],\n",
              "       ['/content/drive/My Drive/Colab Notebooks/new project/new data/new idea/spectogram data/cutted_data_122_14_cp.png',\n",
              "        1],\n",
              "       ['/content/drive/My Drive/Colab Notebooks/new project/new data/new idea/spectogram data/cutted_data_122_15_cp.png',\n",
              "        1]], dtype=object)"
            ]
          },
          "metadata": {
            "tags": []
          },
          "execution_count": 62
        }
      ]
    },
    {
      "cell_type": "code",
      "metadata": {
        "id": "dbJWNbKOqpWh",
        "colab_type": "code",
        "colab": {
          "base_uri": "https://localhost:8080/",
          "height": 221
        },
        "outputId": "897a6363-5c1f-47a3-e92e-2e4f23d80502"
      },
      "source": [
        "new_test_data[0]"
      ],
      "execution_count": 67,
      "outputs": [
        {
          "output_type": "execute_result",
          "data": {
            "text/plain": [
              "0       /content/drive/My Drive/Colab Notebooks/new pr...\n",
              "1       /content/drive/My Drive/Colab Notebooks/new pr...\n",
              "2       /content/drive/My Drive/Colab Notebooks/new pr...\n",
              "3       /content/drive/My Drive/Colab Notebooks/new pr...\n",
              "4       /content/drive/My Drive/Colab Notebooks/new pr...\n",
              "                              ...                        \n",
              "4014    /content/drive/My Drive/Colab Notebooks/new pr...\n",
              "4015    /content/drive/My Drive/Colab Notebooks/new pr...\n",
              "4016    /content/drive/My Drive/Colab Notebooks/new pr...\n",
              "4017    /content/drive/My Drive/Colab Notebooks/new pr...\n",
              "4018    /content/drive/My Drive/Colab Notebooks/new pr...\n",
              "Name: 0, Length: 4019, dtype: object"
            ]
          },
          "metadata": {
            "tags": []
          },
          "execution_count": 67
        }
      ]
    },
    {
      "cell_type": "code",
      "metadata": {
        "id": "B9wFFA42nxPW",
        "colab_type": "code",
        "colab": {}
      },
      "source": [
        "new_test_data_gen = Image_bath_gen(new_test_data[0], new_test_data[1], 128)"
      ],
      "execution_count": 0,
      "outputs": []
    },
    {
      "cell_type": "code",
      "metadata": {
        "id": "Ch7gjvAqhg7_",
        "colab_type": "code",
        "outputId": "87a7bada-e16a-4c58-d487-73de1d557965",
        "colab": {
          "base_uri": "https://localhost:8080/",
          "height": 51
        }
      },
      "source": [
        "model.evaluate(new_test_data_gen)"
      ],
      "execution_count": 69,
      "outputs": [
        {
          "output_type": "stream",
          "text": [
            "32/32 [==============================] - 172s 5s/step - loss: 0.7021 - accuracy: 0.6984\n"
          ],
          "name": "stdout"
        },
        {
          "output_type": "execute_result",
          "data": {
            "text/plain": [
              "[0.7021036148071289, 0.698432445526123]"
            ]
          },
          "metadata": {
            "tags": []
          },
          "execution_count": 69
        }
      ]
    },
    {
      "cell_type": "code",
      "metadata": {
        "id": "x9rERCDkhkEB",
        "colab_type": "code",
        "colab": {}
      },
      "source": [
        "classes = model.predict_classes(new_test_data_gen)"
      ],
      "execution_count": 0,
      "outputs": []
    },
    {
      "cell_type": "code",
      "metadata": {
        "id": "wuDcFlegjTxU",
        "colab_type": "code",
        "colab": {}
      },
      "source": [
        "true_data = new_test_data[1].values"
      ],
      "execution_count": 0,
      "outputs": []
    },
    {
      "cell_type": "code",
      "metadata": {
        "id": "oIItvwyCiba3",
        "colab_type": "code",
        "colab": {}
      },
      "source": [
        "j = 0\n",
        "predicted = []\n",
        "true = []\n",
        "for i in sequ:\n",
        "  predicted.append(sum(classes[j:j+i])[0]/i)\n",
        "  true.append(sum(true_data[j:j+i]/i))\n",
        "  j += i"
      ],
      "execution_count": 0,
      "outputs": []
    },
    {
      "cell_type": "code",
      "metadata": {
        "id": "QotJB5QgjscZ",
        "colab_type": "code",
        "colab": {}
      },
      "source": [
        "predicted = [1 if i > 0.5 else 0 for i in predicted]"
      ],
      "execution_count": 0,
      "outputs": []
    },
    {
      "cell_type": "code",
      "metadata": {
        "id": "k9R0gyftko0O",
        "colab_type": "code",
        "colab": {}
      },
      "source": [
        "true = [1 if i > 0.5 else 0 for i in true]"
      ],
      "execution_count": 0,
      "outputs": []
    },
    {
      "cell_type": "markdown",
      "metadata": {
        "id": "_vn95orouVuV",
        "colab_type": "text"
      },
      "source": [
        "The accuracy of hole file\n"
      ]
    },
    {
      "cell_type": "code",
      "metadata": {
        "id": "duRa1ey_ktOC",
        "colab_type": "code",
        "outputId": "af25808a-fe56-433b-e9ee-870dc2faae58",
        "colab": {
          "base_uri": "https://localhost:8080/",
          "height": 34
        }
      },
      "source": [
        "from sklearn.metrics import accuracy_score as acc\n",
        "acc(true, predicted)"
      ],
      "execution_count": 89,
      "outputs": [
        {
          "output_type": "execute_result",
          "data": {
            "text/plain": [
              "0.7107438016528925"
            ]
          },
          "metadata": {
            "tags": []
          },
          "execution_count": 89
        }
      ]
    }
  ]
}